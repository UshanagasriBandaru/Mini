{
  "cells": [
    {
      "cell_type": "markdown",
      "metadata": {
        "id": "-MhCYdbYH05_"
      },
      "source": [
        "word2vec\n"
      ]
    },
    {
      "cell_type": "code",
      "execution_count": null,
      "metadata": {
        "colab": {
          "base_uri": "https://localhost:8080/"
        },
        "id": "QUS4529vIHgA",
        "outputId": "1789ef5a-3972-440b-8e59-249677ae9d1f"
      },
      "outputs": [
        {
          "output_type": "stream",
          "name": "stdout",
          "text": [
            "Requirement already satisfied: gensim in /usr/local/lib/python3.11/dist-packages (4.3.3)\n",
            "Requirement already satisfied: numpy<2.0,>=1.18.5 in /usr/local/lib/python3.11/dist-packages (from gensim) (1.26.4)\n",
            "Requirement already satisfied: scipy<1.14.0,>=1.7.0 in /usr/local/lib/python3.11/dist-packages (from gensim) (1.13.1)\n",
            "Requirement already satisfied: smart-open>=1.8.1 in /usr/local/lib/python3.11/dist-packages (from gensim) (7.1.0)\n",
            "Requirement already satisfied: wrapt in /usr/local/lib/python3.11/dist-packages (from smart-open>=1.8.1->gensim) (1.17.2)\n"
          ]
        }
      ],
      "source": [
        "!pip install gensim #gensim python library for nlp tasks\n",
        "#word2vec is a model in gensim used to create word embedings\n"
      ]
    },
    {
      "cell_type": "code",
      "execution_count": null,
      "metadata": {
        "colab": {
          "base_uri": "https://localhost:8080/"
        },
        "id": "w47YyuS4H0cO",
        "outputId": "3cd8f11b-2156-4fb4-8d70-ae860f2c73db"
      },
      "outputs": [
        {
          "output_type": "stream",
          "name": "stdout",
          "text": [
            "[-0.01340568  0.00591078  0.12758374  0.22523183]\n"
          ]
        }
      ],
      "source": [
        "from gensim.models import Word2Vec\n",
        "\n",
        "\n",
        "corpus = [\n",
        "    [\"hello\", \"world\"],\n",
        "    [\"machine\", \"learning\", \"is\", \"fun\"],\n",
        "    [\"deep\", \"learning\", \"uses\", \"neural\", \"networks\"],\n",
        "\n",
        "]#corpus=list of sentences\n",
        "\n",
        "# Training Word2Vec model\n",
        "model = Word2Vec(sentences=corpus, vector_size=4, window=2, min_count=1, sg=1)#vector_size represents size of word embedding -how many no of feaatures represent each word\n",
        "#window -how many words before/after should be considered as context\n",
        "#min_count-ignores words that appear less than 1 time ensures all words are included\n",
        "#sg-uses skipgram model(if sg=0, it would use CBOW).sg=1 works well with small datasets\n",
        "\n",
        "# Get word embeddings\n",
        "print(model.wv[\"learning\"])  # Example vector for \"learning\"\n",
        "#model.wv is the word vector dictionary (contains all learned word embeddings).\n"
      ]
    },
    {
      "cell_type": "code",
      "source": [
        "from gensim.models import Word2Vec\n",
        "\n",
        "\n",
        "corpus = [\n",
        "    [\"hello\", \"world\"],\n",
        "    [\"machine\", \"learning\", \"is\", \"fun\"],\n",
        "    [\"deep\", \"learning\", \"uses\", \"neural\", \"networks\"],\n",
        "\n",
        "]#corpus=list of sentences\n",
        "\n",
        "# Training Word2Vec model\n",
        "model = Word2Vec(sentences=corpus, vector_size=16, window=3, min_count=1, sg=1)#vector_size represents size of word embedding\n",
        "#window -how many words before/after should be considered as context\n",
        "#min_count-ignores words that appear less than 1 time ensures all words are included\n",
        "#sg-uses skipgram model(if sg=0, it would use CBOW).sg=1 works well with small datasets\n",
        "\n",
        "# Get word embeddings\n",
        "print(model.wv[\"learning\"])  # Example vector for \"learning\"\n",
        "#model.wv is the word vector dictionary (contains all learned word embeddings).\n"
      ],
      "metadata": {
        "id": "LBppBIjEnBgb",
        "colab": {
          "base_uri": "https://localhost:8080/"
        },
        "outputId": "ed2c257b-bfc3-4d74-cd80-6f6ff2439fd7"
      },
      "execution_count": 3,
      "outputs": [
        {
          "output_type": "stream",
          "name": "stdout",
          "text": [
            "[-0.00335142  0.0014777   0.03189594  0.05630796 -0.05814344 -0.04448006\n",
            "  0.04036795  0.05608118 -0.03134643 -0.02352107  0.04612815 -0.0095842\n",
            " -0.02835383  0.04096282 -0.030376   -0.01135011]\n"
          ]
        }
      ]
    },
    {
      "cell_type": "code",
      "source": [
        "from gensim.models import Word2Vec\n",
        "\n",
        "\n",
        "corpus = [\n",
        "    [\"hello\", \"world\"],\n",
        "    [\"machine\", \"learning\", \"is\", \"fun\"],\n",
        "    [\"deep\", \"learning\", \"uses\", \"neural\", \"networks\"],\n",
        "\n",
        "]#corpus=list of sentences\n",
        "\n",
        "# Training Word2Vec model\n",
        "model = Word2Vec(sentences=corpus, vector_size=4, window=2, min_count=2, sg=1)#vector_size represents size of word embedding\n",
        "#window -how many words before/after should be considered as context\n",
        "#min_count-ignores words that appear less than 1 time ensures all words are included\n",
        "#sg-uses skipgram model(if sg=0, it would use CBOW).sg=1 works well with small datasets\n",
        "\n",
        "# Get word embeddings\n",
        "print(model.wv[\"learning\"])  # Example vector for \"learning\"\n",
        "#model.wv is the word vector dictionary (contains all learned word embeddings).\n"
      ],
      "metadata": {
        "colab": {
          "base_uri": "https://localhost:8080/"
        },
        "id": "GOj1I37kZHNj",
        "outputId": "ab6fc15e-96ef-49d8-815b-282870697b92"
      },
      "execution_count": null,
      "outputs": [
        {
          "output_type": "stream",
          "name": "stdout",
          "text": [
            "[-0.01340568  0.00591078  0.12758374  0.22523183]\n"
          ]
        }
      ]
    },
    {
      "cell_type": "code",
      "execution_count": null,
      "metadata": {
        "colab": {
          "base_uri": "https://localhost:8080/"
        },
        "id": "PL1HaPbwLl_H",
        "outputId": "ffbaa8c5-e04d-42bc-b76a-5de3c1671c75"
      },
      "outputs": [
        {
          "output_type": "stream",
          "name": "stdout",
          "text": [
            "[-0.04121339  0.04649677 -0.0009883  -0.00983638  0.02301815 -0.02047658\n",
            "  0.01371557  0.03469983  0.03032713 -0.03755397  0.04691175  0.02335904\n",
            "  0.0198306  -0.03121753  0.0422999  -0.01075082  0.04412594 -0.02681001\n",
            " -0.0406471   0.03412279]\n"
          ]
        }
      ],
      "source": [
        "corpus_extended = [\n",
        "    [\"hello\", \"world\"],\n",
        "    [\"machine\", \"learning\", \"is\", \"fun\"],\n",
        "    [\"deep\", \"learning\", \"uses\", \"neural\", \"networks\"],\n",
        "    [\"natural\", \"language\", \"processing\"],\n",
        "    [\"artificial\", \"intelligence\", \"is\", \"powerful\"],\n",
        "    [\"data\", \"science\", \"involves\", \"statistics\"],\n",
        "    [\"python\", \"is\", \"popular\", \"for\", \"machine\", \"learning\"]\n",
        "]\n",
        "\n",
        "# Train new model with more vocabulary\n",
        "model_extended = Word2Vec(sentences=corpus_extended, vector_size=20, window=3, min_count=1, sg=1)\n",
        "\n",
        "# Get new word vector\n",
        "print(model_extended.wv[\"intelligence\"])  # Example vector\n"
      ]
    },
    {
      "cell_type": "code",
      "execution_count": null,
      "metadata": {
        "colab": {
          "base_uri": "https://localhost:8080/"
        },
        "id": "qcoxF2z3Lopd",
        "outputId": "8e2b4fcc-4445-4bf6-ee27-9c0643d52b7d"
      },
      "outputs": [
        {
          "output_type": "stream",
          "name": "stdout",
          "text": [
            "[('science', 0.4658801257610321), ('world', 0.39643120765686035), ('powerful', 0.3512759804725647), ('processing', 0.33658120036125183), ('involves', 0.3148750960826874), ('python', 0.26402661204338074), ('popular', 0.22736574709415436), ('language', 0.14545801281929016), ('hello', 0.06370002031326294), ('for', 0.055957745760679245)]\n"
          ]
        }
      ],
      "source": [
        "print(model_extended.wv.most_similar(\"learning\"))\n"
      ]
    },
    {
      "cell_type": "code",
      "execution_count": null,
      "metadata": {
        "colab": {
          "base_uri": "https://localhost:8080/",
          "height": 454
        },
        "id": "BkoNw2gtLsGO",
        "outputId": "26187b56-a838-4cd6-b2ab-36432b383fb6"
      },
      "outputs": [
        {
          "output_type": "display_data",
          "data": {
            "text/plain": [
              "<Figure size 800x600 with 1 Axes>"
            ],
            "image/png": "[encoded data removed]"
          },
          "metadata": {}
        }
      ],
      "source": [
        "from sklearn.decomposition import PCA\n",
        "import matplotlib.pyplot as plt\n",
        "\n",
        "# Reduce dimensions of word vectors\n",
        "words = list(model_extended.wv.index_to_key)\n",
        "X = model_extended.wv[words]\n",
        "\n",
        "pca = PCA(n_components=2)\n",
        "X_pca = pca.fit_transform(X)\n",
        "\n",
        "# Plot words in 2D\n",
        "plt.figure(figsize=(8, 6))\n",
        "plt.scatter(X_pca[:, 0], X_pca[:, 1], edgecolors='k')\n",
        "\n",
        "for i, word in enumerate(words):\n",
        "    plt.text(X_pca[i, 0], X_pca[i, 1], word)\n",
        "\n",
        "plt.show()\n"
      ]
    },
    {
      "cell_type": "markdown",
      "source": [
        "GLOVE"
      ],
      "metadata": {
        "id": "foDjAqH2dJm8"
      }
    },
    {
      "cell_type": "code",
      "source": [
        "!pip install gensim numpy\n",
        "\n"
      ],
      "metadata": {
        "colab": {
          "base_uri": "https://localhost:8080/"
        },
        "id": "7GQz62eNdIxU",
        "outputId": "9a359adf-b479-4ff8-d5b5-826c8f7da39d"
      },
      "execution_count": null,
      "outputs": [
        {
          "output_type": "stream",
          "name": "stdout",
          "text": [
            "Requirement already satisfied: gensim in /usr/local/lib/python3.11/dist-packages (4.3.3)\n",
            "Requirement already satisfied: numpy in /usr/local/lib/python3.11/dist-packages (1.26.4)\n",
            "Requirement already satisfied: scipy<1.14.0,>=1.7.0 in /usr/local/lib/python3.11/dist-packages (from gensim) (1.13.1)\n",
            "Requirement already satisfied: smart-open>=1.8.1 in /usr/local/lib/python3.11/dist-packages (from gensim) (7.1.0)\n",
            "Requirement already satisfied: wrapt in /usr/local/lib/python3.11/dist-packages (from smart-open>=1.8.1->gensim) (1.17.2)\n"
          ]
        }
      ]
    },
    {
      "cell_type": "code",
      "source": [
        "import gensim.downloader as api\n",
        "\n",
        "# Load the pre-trained GloVe model (50D version)\n",
        "glove_model = api.load(\"glove-wiki-gigaword-50\")\n",
        "\n",
        "# Get the list of all words in the model's vocabulary\n",
        "vocab_words = list(glove_model.key_to_index.keys())\n",
        "\n",
        "# Print the first 20 words as a sample\n",
        "print(vocab_words[:20])\n"
      ],
      "metadata": {
        "colab": {
          "base_uri": "https://localhost:8080/"
        },
        "id": "QUvRzle66sRl",
        "outputId": "23428850-26aa-4a2f-d1ee-2925a9e9f007"
      },
      "execution_count": 4,
      "outputs": [
        {
          "output_type": "stream",
          "name": "stdout",
          "text": [
            "[==================================================] 100.0% 66.0/66.0MB downloaded\n",
            "['the', ',', '.', 'of', 'to', 'and', 'in', 'a', '\"', \"'s\", 'for', '-', 'that', 'on', 'is', 'was', 'said', 'with', 'he', 'as']\n"
          ]
        }
      ]
    },
    {
      "cell_type": "code",
      "source": [
        "word = \"quantum\"\n",
        "if word in glove_model.key_to_index:\n",
        "    print(f\"'{word}' exists in the GloVe vocabulary!\")\n",
        "else:\n",
        "    print(f\"'{word}' is NOT in the GloVe vocabulary.\")\n"
      ],
      "metadata": {
        "colab": {
          "base_uri": "https://localhost:8080/"
        },
        "id": "mpW_FoRS6wVk",
        "outputId": "eeac9d19-1d6a-4069-9a74-176452cbe9e2"
      },
      "execution_count": 6,
      "outputs": [
        {
          "output_type": "stream",
          "name": "stdout",
          "text": [
            "'quantum' exists in the GloVe vocabulary!\n"
          ]
        }
      ]
    },
    {
      "cell_type": "code",
      "source": [
        "import gensim.downloader as api\n",
        "\n",
        "# Load a pre-trained GloVe model (50D, 100D, or 300D available)\n",
        "glove_model = api.load(\"glove-wiki-gigaword-50\")  # 50-dimensional vectors\n",
        "\n",
        "# Example: Get the vector for a word\n",
        "vector = glove_model[\"example\"]\n",
        "print(\"Vector for 'example':\", len(vector))\n",
        "\n",
        "# Find most similar words\n",
        "similar_words = glove_model.most_similar(\"example\", topn=5)#The topn parameter is used in functions like .most_similar() to limit the number of similar words returned.\n",
        "print(\"Most similar words to 'example':\", similar_words)\n"
      ],
      "metadata": {
        "colab": {
          "base_uri": "https://localhost:8080/"
        },
        "id": "vOP8qtyndlWt",
        "outputId": "dd55beaf-3eb7-48ca-a5b0-71a9c17be99e"
      },
      "execution_count": 9,
      "outputs": [
        {
          "output_type": "stream",
          "name": "stdout",
          "text": [
            "Vector for 'example': 50\n",
            "Most similar words to 'example': [('instance', 0.9669908881187439), ('particular', 0.9291923642158508), ('such', 0.9044108390808105), ('similar', 0.9010181427001953), ('same', 0.9001578092575073)]\n"
          ]
        }
      ]
    },
    {
      "cell_type": "code",
      "source": [
        "import gensim.downloader as api\n",
        "\n",
        "# Load a pre-trained GloVe model (50D, 100D, or 300D available)\n",
        "glove_model = api.load(\"glove-wiki-gigaword-50\")  # 50-dimensional vectors\n",
        "\n",
        "# Example: Get the vector for a word\n",
        "vector = glove_model[\"example\"]\n",
        "print(\"Vector for 'example':\", vector)\n",
        "\n",
        "# Find most similar words\n",
        "similar_words = glove_model.most_similar(\"example\", topn=14)#The topn parameter is used in functions like .most_similar() to limit the number of similar words returned.\n",
        "print(\"Most similar words to 'example':\", similar_words)"
      ],
      "metadata": {
        "id": "rXk0ckxO7C2O",
        "outputId": "0cf2d94c-af0e-4247-8ba5-3fe2a1bcca46",
        "colab": {
          "base_uri": "https://localhost:8080/"
        }
      },
      "execution_count": 5,
      "outputs": [
        {
          "output_type": "stream",
          "name": "stdout",
          "text": [
            "Vector for 'example': [ 0.51564    0.56912   -0.19759    0.0080456  0.41697    0.59502\n",
            " -0.053312  -0.83222   -0.21715    0.31045    0.09352    0.35323\n",
            "  0.28151   -0.35308    0.23496    0.04429    0.017109   0.0063749\n",
            " -0.01662   -0.69576    0.019819  -0.52746   -0.14011    0.21962\n",
            "  0.13692   -1.2683    -0.89416   -0.1831     0.23343   -0.058254\n",
            "  3.2481    -0.48794   -0.01207   -0.81645    0.21182   -0.17837\n",
            " -0.02874    0.099358  -0.14944    0.2601     0.18919    0.15022\n",
            "  0.18278    0.50052   -0.025532   0.24671    0.10596    0.13612\n",
            "  0.0090427  0.39962  ]\n",
            "Most similar words to 'example': [('instance', 0.9669908881187439), ('particular', 0.9291923642158508), ('such', 0.9044108390808105), ('similar', 0.9010181427001953), ('same', 0.9001578092575073), ('this', 0.8920628428459167), ('certain', 0.8821814656257629), ('different', 0.8707563281059265), ('common', 0.870438814163208), ('as', 0.8677935600280762), ('unlike', 0.8673081994056702), ('well', 0.8658074736595154), ('is', 0.8654651641845703), ('these', 0.8644632697105408)]\n"
          ]
        }
      ]
    },
    {
      "cell_type": "code",
      "source": [
        "import gensim.downloader as api\n",
        "\n",
        "# Load a pre-trained GloVe model (50D, 100D, or 300D available)\n",
        "glove_model = api.load(\"glove-wiki-gigaword-50\")  # 50-dimensional vectors\n",
        "\n",
        "# Example: Get the vector for a word\n",
        "vector = glove_model[\"learning\"]\n",
        "print(\"Vector for 'learning':\", vector)\n",
        "\n",
        "# Find most similar words\n",
        "similar_words = glove_model.most_similar(\"example\", topn=5)#The topn parameter is used in functions like .most_similar() to limit the number of similar words returned.\n",
        "print(\"Most similar words to 'example':\", similar_words)"
      ],
      "metadata": {
        "id": "fsTTQ7x27Ih9",
        "outputId": "eb97025a-68c6-4e6a-d13a-40c25d2fa07a",
        "colab": {
          "base_uri": "https://localhost:8080/"
        }
      },
      "execution_count": 8,
      "outputs": [
        {
          "output_type": "stream",
          "name": "stdout",
          "text": [
            "Vector for 'learning': [ 0.20461   0.48659  -0.55308  -0.27019   0.26336   0.15751  -0.28994\n",
            " -0.51824   0.051829  0.36225   0.37077   0.1322   -0.061377 -0.53606\n",
            " -0.34733  -0.043981 -0.086744  0.78305   0.41422   0.027996  0.23433\n",
            "  0.98844  -0.41049   0.6206    1.3966   -0.65427  -0.18221  -1.0293\n",
            " -0.014741 -0.25384   3.227     0.39509  -0.33042  -1.229     0.29048\n",
            "  0.33654  -0.24817   0.47105   0.32964   0.23997   0.088302 -0.91779\n",
            " -0.36671   0.9926    0.2185   -0.316     1.203     0.2699   -0.14093\n",
            "  0.70785 ]\n",
            "Most similar words to 'example': [('instance', 0.9669908881187439), ('particular', 0.9291923642158508), ('such', 0.9044108390808105), ('similar', 0.9010181427001953), ('same', 0.9001578092575073)]\n"
          ]
        }
      ]
    },
    {
      "cell_type": "markdown",
      "metadata": {
        "id": "_QFmLhRn4oF7"
      },
      "source": [
        "FOOD REVIEW CLASSIFICATIION"
      ]
    },
    {
      "cell_type": "code",
      "execution_count": null,
      "metadata": {
        "id": "Du9Agg2q4r0k"
      },
      "outputs": [],
      "source": [
        "import numpy as np\n",
        "from tensorflow.keras.preprocessing.text import one_hot\n",
        "from tensorflow.keras.models import Sequential\n",
        "from tensorflow.keras.layers import Dense, Flatten\n",
        "from tensorflow.keras.layers import Embedding\n",
        "\n",
        "from tensorflow.keras.preprocessing.sequence import pad_sequences\n"
      ]
    },
    {
      "cell_type": "code",
      "execution_count": null,
      "metadata": {
        "id": "tPr4UlJV5-SR"
      },
      "outputs": [],
      "source": [
        "reviews = ['nice food',\n",
        "        'amazing restaurant',\n",
        "        'too good',\n",
        "        'just loved it!',\n",
        "        'will go again',\n",
        "        'horrible food',\n",
        "        'never go there',\n",
        "        'poor service',\n",
        "        'poor quality',\n",
        "        'needs improvement']\n",
        "\n",
        "sentiment = np.array([1,1,1,1,1,0,0,0,0,0])"
      ]
    },
    {
      "cell_type": "code",
      "execution_count": null,
      "metadata": {
        "colab": {
          "base_uri": "https://localhost:8080/"
        },
        "id": "oO3fdUqQ6NmR",
        "outputId": "82514235-5054-4699-9d6b-e58579cfe116"
      },
      "outputs": [
        {
          "data": {
            "text/plain": [
              "[19, 17]"
            ]
          },
          "execution_count": 8,
          "metadata": {},
          "output_type": "execute_result"
        }
      ],
      "source": [
        "one_hot(\"amazing restaurant\",30)#30-vocalburary size"
      ]
    },
    {
      "cell_type": "code",
      "execution_count": null,
      "metadata": {
        "colab": {
          "base_uri": "https://localhost:8080/"
        },
        "id": "TdL1OVBt6cxC",
        "outputId": "28b3ac6a-b739-42db-9618-2212e3aa9fb4"
      },
      "outputs": [
        {
          "name": "stdout",
          "output_type": "stream",
          "text": [
            "[[29, 7], [19, 17], [19, 21], [11, 20, 15], [17, 24, 8], [13, 7], [25, 24, 13], [3, 23], [3, 22], [6, 29]]\n"
          ]
        }
      ],
      "source": [
        "vocab_size = 30\n",
        "encoded_reviews = [one_hot(d, vocab_size) for d in reviews]\n",
        "print(encoded_reviews)"
      ]
    },
    {
      "cell_type": "code",
      "execution_count": null,
      "metadata": {
        "colab": {
          "base_uri": "https://localhost:8080/"
        },
        "id": "btYzgruhW3Ji",
        "outputId": "274accbf-063c-46b6-8bf2-16ffd3ee9893"
      },
      "outputs": [
        {
          "name": "stdout",
          "output_type": "stream",
          "text": [
            "[[29  7  0  0]\n",
            " [19 17  0  0]\n",
            " [19 21  0  0]\n",
            " [11 20 15  0]\n",
            " [17 24  8  0]\n",
            " [13  7  0  0]\n",
            " [25 24 13  0]\n",
            " [ 3 23  0  0]\n",
            " [ 3 22  0  0]\n",
            " [ 6 29  0  0]]\n"
          ]
        }
      ],
      "source": [
        "\n",
        "max_length = 4\n",
        "padded_reviews = pad_sequences(encoded_reviews, maxlen=max_length, padding='post')\n",
        "print(padded_reviews)"
      ]
    },
    {
      "cell_type": "code",
      "execution_count": null,
      "metadata": {
        "colab": {
          "base_uri": "https://localhost:8080/"
        },
        "id": "yBXbeFV0XjID",
        "outputId": "2089ea48-c414-4430-fdfb-932d2f642dbe"
      },
      "outputs": [
        {
          "name": "stderr",
          "output_type": "stream",
          "text": [
            "/usr/local/lib/python3.11/dist-packages/keras/src/layers/core/embedding.py:90: UserWarning: Argument `input_length` is deprecated. Just remove it.\n",
            "  warnings.warn(\n"
          ]
        }
      ],
      "source": [
        "embeded_vector_size = 4\n",
        "\n",
        "model = Sequential()\n",
        "model.add(Embedding(vocab_size, embeded_vector_size, input_length=max_length,name=\"embedding\"))#1 layer\n",
        "model.add(Flatten())\n",
        "model.add(Dense(1, activation='sigmoid'))"
      ]
    },
    {
      "cell_type": "code",
      "execution_count": null,
      "metadata": {
        "id": "beGGlDFBXnx7"
      },
      "outputs": [],
      "source": [
        "X = padded_reviews\n",
        "y = sentiment"
      ]
    },
    {
      "cell_type": "code",
      "execution_count": null,
      "metadata": {
        "colab": {
          "base_uri": "https://localhost:8080/",
          "height": 242
        },
        "id": "uV5hqpR0XyEj",
        "outputId": "bef3c1f2-0159-46e5-f699-b02cf41d23d7"
      },
      "outputs": [
        {
          "data": {
            "text/html": [
              "<pre style=\"white-space:pre;overflow-x:auto;line-height:normal;font-family:Menlo,'DejaVu Sans Mono',consolas,'Courier New',monospace\"><span style=\"font-weight: bold\">Model: \"sequential\"</span>\n",
              "</pre>\n"
            ],
            "text/plain": [
              "\u001b[1mModel: \"sequential\"\u001b[0m\n"
            ]
          },
          "metadata": {},
          "output_type": "display_data"
        },
        {
          "data": {
            "text/html": [
              "<pre style=\"white-space:pre;overflow-x:auto;line-height:normal;font-family:Menlo,'DejaVu Sans Mono',consolas,'Courier New',monospace\">┏━━━━━━━━━━━━━━━━━━━━━━━━━━━━━━━━━━━━━━┳━━━━━━━━━━━━━━━━━━━━━━━━━━━━━┳━━━━━━━━━━━━━━━━━┓\n",
              "┃<span style=\"font-weight: bold\"> Layer (type)                         </span>┃<span style=\"font-weight: bold\"> Output Shape                </span>┃<span style=\"font-weight: bold\">         Param # </span>┃\n",
              "┡━━━━━━━━━━━━━━━━━━━━━━━━━━━━━━━━━━━━━━╇━━━━━━━━━━━━━━━━━━━━━━━━━━━━━╇━━━━━━━━━━━━━━━━━┩\n",
              "│ embedding (<span style=\"color: #0087ff; text-decoration-color: #0087ff\">Embedding</span>)                │ (<span style=\"color: #00d7ff; text-decoration-color: #00d7ff\">None</span>, <span style=\"color: #00af00; text-decoration-color: #00af00\">4</span>, <span style=\"color: #00af00; text-decoration-color: #00af00\">4</span>)                │             <span style=\"color: #00af00; text-decoration-color: #00af00\">120</span> │\n",
              "├──────────────────────────────────────┼─────────────────────────────┼─────────────────┤\n",
              "│ flatten (<span style=\"color: #0087ff; text-decoration-color: #0087ff\">Flatten</span>)                    │ (<span style=\"color: #00d7ff; text-decoration-color: #00d7ff\">None</span>, <span style=\"color: #00af00; text-decoration-color: #00af00\">16</span>)                  │               <span style=\"color: #00af00; text-decoration-color: #00af00\">0</span> │\n",
              "├──────────────────────────────────────┼─────────────────────────────┼─────────────────┤\n",
              "│ dense (<span style=\"color: #0087ff; text-decoration-color: #0087ff\">Dense</span>)                        │ (<span style=\"color: #00d7ff; text-decoration-color: #00d7ff\">None</span>, <span style=\"color: #00af00; text-decoration-color: #00af00\">1</span>)                   │              <span style=\"color: #00af00; text-decoration-color: #00af00\">17</span> │\n",
              "└──────────────────────────────────────┴─────────────────────────────┴─────────────────┘\n",
              "</pre>\n"
            ],
            "text/plain": [
              "┏━━━━━━━━━━━━━━━━━━━━━━━━━━━━━━━━━━━━━━┳━━━━━━━━━━━━━━━━━━━━━━━━━━━━━┳━━━━━━━━━━━━━━━━━┓\n",
              "┃\u001b[1m \u001b[0m\u001b[1mLayer (type)                        \u001b[0m\u001b[1m \u001b[0m┃\u001b[1m \u001b[0m\u001b[1mOutput Shape               \u001b[0m\u001b[1m \u001b[0m┃\u001b[1m \u001b[0m\u001b[1m        Param #\u001b[0m\u001b[1m \u001b[0m┃\n",
              "┡━━━━━━━━━━━━━━━━━━━━━━━━━━━━━━━━━━━━━━╇━━━━━━━━━━━━━━━━━━━━━━━━━━━━━╇━━━━━━━━━━━━━━━━━┩\n",
              "│ embedding (\u001b[38;5;33mEmbedding\u001b[0m)                │ (\u001b[38;5;45mNone\u001b[0m, \u001b[38;5;34m4\u001b[0m, \u001b[38;5;34m4\u001b[0m)                │             \u001b[38;5;34m120\u001b[0m │\n",
              "├──────────────────────────────────────┼─────────────────────────────┼─────────────────┤\n",
              "│ flatten (\u001b[38;5;33mFlatten\u001b[0m)                    │ (\u001b[38;5;45mNone\u001b[0m, \u001b[38;5;34m16\u001b[0m)                  │               \u001b[38;5;34m0\u001b[0m │\n",
              "├──────────────────────────────────────┼─────────────────────────────┼─────────────────┤\n",
              "│ dense (\u001b[38;5;33mDense\u001b[0m)                        │ (\u001b[38;5;45mNone\u001b[0m, \u001b[38;5;34m1\u001b[0m)                   │              \u001b[38;5;34m17\u001b[0m │\n",
              "└──────────────────────────────────────┴─────────────────────────────┴─────────────────┘\n"
            ]
          },
          "metadata": {},
          "output_type": "display_data"
        },
        {
          "data": {
            "text/html": [
              "<pre style=\"white-space:pre;overflow-x:auto;line-height:normal;font-family:Menlo,'DejaVu Sans Mono',consolas,'Courier New',monospace\"><span style=\"font-weight: bold\"> Total params: </span><span style=\"color: #00af00; text-decoration-color: #00af00\">137</span> (548.00 B)\n",
              "</pre>\n"
            ],
            "text/plain": [
              "\u001b[1m Total params: \u001b[0m\u001b[38;5;34m137\u001b[0m (548.00 B)\n"
            ]
          },
          "metadata": {},
          "output_type": "display_data"
        },
        {
          "data": {
            "text/html": [
              "<pre style=\"white-space:pre;overflow-x:auto;line-height:normal;font-family:Menlo,'DejaVu Sans Mono',consolas,'Courier New',monospace\"><span style=\"font-weight: bold\"> Trainable params: </span><span style=\"color: #00af00; text-decoration-color: #00af00\">137</span> (548.00 B)\n",
              "</pre>\n"
            ],
            "text/plain": [
              "\u001b[1m Trainable params: \u001b[0m\u001b[38;5;34m137\u001b[0m (548.00 B)\n"
            ]
          },
          "metadata": {},
          "output_type": "display_data"
        },
        {
          "data": {
            "text/html": [
              "<pre style=\"white-space:pre;overflow-x:auto;line-height:normal;font-family:Menlo,'DejaVu Sans Mono',consolas,'Courier New',monospace\"><span style=\"font-weight: bold\"> Non-trainable params: </span><span style=\"color: #00af00; text-decoration-color: #00af00\">0</span> (0.00 B)\n",
              "</pre>\n"
            ],
            "text/plain": [
              "\u001b[1m Non-trainable params: \u001b[0m\u001b[38;5;34m0\u001b[0m (0.00 B)\n"
            ]
          },
          "metadata": {},
          "output_type": "display_data"
        },
        {
          "name": "stdout",
          "output_type": "stream",
          "text": [
            "None\n"
          ]
        }
      ],
      "source": [
        "\n",
        "model.compile(optimizer='adam', loss='binary_crossentropy', metrics=['accuracy'])\n",
        "model.build(input_shape=(None, max_length))\n",
        "print(model.summary())"
      ]
    },
    {
      "cell_type": "code",
      "execution_count": null,
      "metadata": {
        "colab": {
          "base_uri": "https://localhost:8080/"
        },
        "id": "KIC8Y7VoYiJz",
        "outputId": "038a59e8-b530-496e-a429-01ac6987ae2e"
      },
      "outputs": [
        {
          "data": {
            "text/plain": [
              "<keras.src.callbacks.history.History at 0x7e1b00562d50>"
            ]
          },
          "execution_count": 14,
          "metadata": {},
          "output_type": "execute_result"
        }
      ],
      "source": [
        "model.fit(X, y, epochs=50, verbose=0)"
      ]
    },
    {
      "cell_type": "code",
      "execution_count": null,
      "metadata": {
        "colab": {
          "base_uri": "https://localhost:8080/"
        },
        "id": "C2Q9I9bEYk5b",
        "outputId": "40ec3803-46ec-46e2-93fc-68513972d17d"
      },
      "outputs": [
        {
          "name": "stdout",
          "output_type": "stream",
          "text": [
            "\u001b[1m1/1\u001b[0m \u001b[32m━━━━━━━━━━━━━━━━━━━━\u001b[0m\u001b[37m\u001b[0m \u001b[1m0s\u001b[0m 307ms/step - accuracy: 1.0000 - loss: 0.6389\n"
          ]
        },
        {
          "data": {
            "text/plain": [
              "1.0"
            ]
          },
          "execution_count": 15,
          "metadata": {},
          "output_type": "execute_result"
        }
      ],
      "source": [
        "# evaluate the model\n",
        "loss, accuracy = model.evaluate(X, y)\n",
        "accuracy"
      ]
    },
    {
      "cell_type": "code",
      "execution_count": null,
      "metadata": {
        "id": "lx76GirYY7i7"
      },
      "outputs": [],
      "source": [
        "\n",
        "weights = model.get_layer('embedding').get_weights()[0]"
      ]
    },
    {
      "cell_type": "code",
      "execution_count": null,
      "metadata": {
        "colab": {
          "base_uri": "https://localhost:8080/"
        },
        "id": "lpeqJgPUYoo6",
        "outputId": "85703b59-3325-4bf2-f56a-4383888ad899"
      },
      "outputs": [
        {
          "data": {
            "text/plain": [
              "30"
            ]
          },
          "execution_count": 17,
          "metadata": {},
          "output_type": "execute_result"
        }
      ],
      "source": [
        "\n",
        "weights = model.get_layer('embedding').get_weights()[0]\n",
        "len(weights)"
      ]
    },
    {
      "cell_type": "code",
      "execution_count": null,
      "metadata": {
        "colab": {
          "base_uri": "https://localhost:8080/"
        },
        "id": "bAdSEyd-YsU7",
        "outputId": "3cf673bf-7e32-469f-a7c0-b5bbea0b9707"
      },
      "outputs": [
        {
          "data": {
            "text/plain": [
              "array([ 0.10218206, -0.06920243, -0.08348232, -0.10755384], dtype=float32)"
            ]
          },
          "execution_count": 18,
          "metadata": {},
          "output_type": "execute_result"
        }
      ],
      "source": [
        "weights[13]"
      ]
    },
    {
      "cell_type": "markdown",
      "metadata": {
        "id": "xZ3RMYTpvAfP"
      },
      "source": [
        "project-2\n"
      ]
    },
    {
      "cell_type": "code",
      "execution_count": null,
      "metadata": {
        "colab": {
          "base_uri": "https://localhost:8080/"
        },
        "id": "wc0aRaA2vDR4",
        "outputId": "a46eda83-fdf2-4098-e19a-78bb25db9bab"
      },
      "outputs": [
        {
          "name": "stdout",
          "output_type": "stream",
          "text": [
            "Requirement already satisfied: gensim in /usr/local/lib/python3.11/dist-packages (4.3.3)\n",
            "Requirement already satisfied: numpy<2.0,>=1.18.5 in /usr/local/lib/python3.11/dist-packages (from gensim) (1.26.4)\n",
            "Requirement already satisfied: scipy<1.14.0,>=1.7.0 in /usr/local/lib/python3.11/dist-packages (from gensim) (1.13.1)\n",
            "Requirement already satisfied: smart-open>=1.8.1 in /usr/local/lib/python3.11/dist-packages (from gensim) (7.1.0)\n",
            "Requirement already satisfied: wrapt in /usr/local/lib/python3.11/dist-packages (from smart-open>=1.8.1->gensim) (1.17.2)\n",
            "Collecting python-Levenshtein\n",
            "  Downloading python_Levenshtein-0.26.1-py3-none-any.whl.metadata (3.7 kB)\n",
            "Collecting Levenshtein==0.26.1 (from python-Levenshtein)\n",
            "  Downloading levenshtein-0.26.1-cp311-cp311-manylinux_2_17_x86_64.manylinux2014_x86_64.whl.metadata (3.2 kB)\n",
            "Collecting rapidfuzz<4.0.0,>=3.9.0 (from Levenshtein==0.26.1->python-Levenshtein)\n",
            "  Downloading rapidfuzz-3.12.1-cp311-cp311-manylinux_2_17_x86_64.manylinux2014_x86_64.whl.metadata (11 kB)\n",
            "Downloading python_Levenshtein-0.26.1-py3-none-any.whl (9.4 kB)\n",
            "Downloading levenshtein-0.26.1-cp311-cp311-manylinux_2_17_x86_64.manylinux2014_x86_64.whl (162 kB)\n",
            "\u001b[2K   \u001b[90m━━━━━━━━━━━━━━━━━━━━━━━━━━━━━━━━━━━━━━━━\u001b[0m \u001b[32m162.7/162.7 kB\u001b[0m \u001b[31m3.3 MB/s\u001b[0m eta \u001b[36m0:00:00\u001b[0m\n",
            "\u001b[?25hDownloading rapidfuzz-3.12.1-cp311-cp311-manylinux_2_17_x86_64.manylinux2014_x86_64.whl (3.1 MB)\n",
            "\u001b[2K   \u001b[90m━━━━━━━━━━━━━━━━━━━━━━━━━━━━━━━━━━━━━━━━\u001b[0m \u001b[32m3.1/3.1 MB\u001b[0m \u001b[31m38.3 MB/s\u001b[0m eta \u001b[36m0:00:00\u001b[0m\n",
            "\u001b[?25hInstalling collected packages: rapidfuzz, Levenshtein, python-Levenshtein\n",
            "Successfully installed Levenshtein-0.26.1 python-Levenshtein-0.26.1 rapidfuzz-3.12.1\n"
          ]
        }
      ],
      "source": [
        " !pip install gensim\n",
        " !pip install python-Levenshtein"
      ]
    },
    {
      "cell_type": "code",
      "execution_count": null,
      "metadata": {
        "colab": {
          "base_uri": "https://localhost:8080/"
        },
        "id": "5YSeiQVDvHuY",
        "outputId": "78d7a7a7-0e7e-4fe7-ed8c-45820786512a"
      },
      "outputs": [
        {
          "data": {
            "text/plain": [
              "0.7828121"
            ]
          },
          "execution_count": 20,
          "metadata": {},
          "output_type": "execute_result"
        }
      ],
      "source": [
        "import gensim\n",
        "import pandas as pd\n",
        "\n",
        "df = pd.read_json(\"/content/Cell_Phones_and_Accessories_5.json\", lines=True)\n",
        "df\n",
        "\n",
        "df.shape\n",
        "\n",
        "review_text = df.reviewText.apply(gensim.utils.simple_preprocess)\n",
        "review_text\n",
        "\n",
        "review_text.loc[0]\n",
        "\n",
        "df.reviewText.loc[0]\n",
        "model = gensim.models.Word2Vec(\n",
        "    window=10,\n",
        "    min_count=2,\n",
        "    workers=4,\n",
        ")\n",
        "model.build_vocab(review_text, progress_per=1000)\n",
        "model.train(review_text, total_examples=model.corpus_count, epochs=model.epochs)\n",
        "\n",
        "model.save(\"./word2vec-amazon-cell-accessories-reviews-short.model\")\n",
        "model.wv.most_similar(\"bad\")\n",
        "model.wv.similarity(w1=\"cheap\", w2=\"inexpensive\")\n",
        "\n",
        "model.wv.similarity(w1=\"great\", w2=\"good\")\n"
      ]
    },
    {
      "cell_type": "code",
      "execution_count": null,
      "metadata": {
        "colab": {
          "base_uri": "https://localhost:8080/",
          "height": 869
        },
        "id": "vPaEmPtt2Yw4",
        "outputId": "edc1ffb7-bc89-4c88-85c6-b153773c814e"
      },
      "outputs": [
        {
          "name": "stdout",
          "output_type": "stream",
          "text": [
            "Epoch 1/10\n"
          ]
        },
        {
          "name": "stderr",
          "output_type": "stream",
          "text": [
            "WARNING:gensim.models.word2vec:Effective 'alpha' higher than previous training cycles\n"
          ]
        },
        {
          "name": "stdout",
          "output_type": "stream",
          "text": [
            "Epoch 2/10\n"
          ]
        },
        {
          "name": "stderr",
          "output_type": "stream",
          "text": [
            "WARNING:gensim.models.word2vec:Effective 'alpha' higher than previous training cycles\n"
          ]
        },
        {
          "name": "stdout",
          "output_type": "stream",
          "text": [
            "Epoch 3/10\n"
          ]
        },
        {
          "name": "stderr",
          "output_type": "stream",
          "text": [
            "WARNING:gensim.models.word2vec:Effective 'alpha' higher than previous training cycles\n"
          ]
        },
        {
          "name": "stdout",
          "output_type": "stream",
          "text": [
            "Epoch 4/10\n"
          ]
        },
        {
          "name": "stderr",
          "output_type": "stream",
          "text": [
            "WARNING:gensim.models.word2vec:Effective 'alpha' higher than previous training cycles\n"
          ]
        },
        {
          "name": "stdout",
          "output_type": "stream",
          "text": [
            "Epoch 5/10\n"
          ]
        },
        {
          "name": "stderr",
          "output_type": "stream",
          "text": [
            "WARNING:gensim.models.word2vec:Effective 'alpha' higher than previous training cycles\n"
          ]
        },
        {
          "name": "stdout",
          "output_type": "stream",
          "text": [
            "Epoch 6/10\n"
          ]
        },
        {
          "name": "stderr",
          "output_type": "stream",
          "text": [
            "WARNING:gensim.models.word2vec:Effective 'alpha' higher than previous training cycles\n"
          ]
        },
        {
          "name": "stdout",
          "output_type": "stream",
          "text": [
            "Epoch 7/10\n"
          ]
        },
        {
          "name": "stderr",
          "output_type": "stream",
          "text": [
            "WARNING:gensim.models.word2vec:Effective 'alpha' higher than previous training cycles\n"
          ]
        },
        {
          "name": "stdout",
          "output_type": "stream",
          "text": [
            "Epoch 8/10\n"
          ]
        },
        {
          "name": "stderr",
          "output_type": "stream",
          "text": [
            "WARNING:gensim.models.word2vec:Effective 'alpha' higher than previous training cycles\n"
          ]
        },
        {
          "name": "stdout",
          "output_type": "stream",
          "text": [
            "Epoch 9/10\n"
          ]
        },
        {
          "name": "stderr",
          "output_type": "stream",
          "text": [
            "WARNING:gensim.models.word2vec:Effective 'alpha' higher than previous training cycles\n"
          ]
        },
        {
          "name": "stdout",
          "output_type": "stream",
          "text": [
            "Epoch 10/10\n"
          ]
        },
        {
          "data": {
            "image/png": "[encoded data removed]",
            "text/plain": [
              "<Figure size 800x500 with 1 Axes>"
            ]
          },
          "metadata": {},
          "output_type": "display_data"
        },
        {
          "name": "stdout",
          "output_type": "stream",
          "text": [
            "Similarity(cheap, inexpensive): 0.4967\n",
            "Similarity(great, good): 0.7713\n",
            "Similarity(bad, awful): 0.4764\n"
          ]
        }
      ],
      "source": [
        "import gensim\n",
        "import pandas as pd\n",
        "import matplotlib.pyplot as plt\n",
        "import numpy as np\n",
        "from sklearn.model_selection import train_test_split\n",
        "\n",
        "# Load Dataset\n",
        "df = pd.read_json(\"/content/Cell_Phones_and_Accessories_5.json\", lines=True)\n",
        "\n",
        "# Preprocess Text\n",
        "review_text = df.reviewText.apply(gensim.utils.simple_preprocess)\n",
        "\n",
        "# Train-Test Split (80-20)\n",
        "train_text, test_text = train_test_split(review_text, test_size=0.2, random_state=42)\n",
        "\n",
        "# Initialize Word2Vec Model\n",
        "model = gensim.models.Word2Vec(\n",
        "    vector_size=100,  # Embedding dimensions\n",
        "    window=10,        # Context window\n",
        "    min_count=2,      # Ignore rare words\n",
        "    workers=4,        # Parallel processing\n",
        ")\n",
        "\n",
        "# Build Vocabulary\n",
        "model.build_vocab(train_text, progress_per=1000)\n",
        "\n",
        "# Track Loss Over Epochs\n",
        "losses = []\n",
        "epochs = 10  # You can increase this\n",
        "\n",
        "for epoch in range(epochs):\n",
        "    print(f\"Epoch {epoch+1}/{epochs}\")\n",
        "    model.train(train_text, total_examples=model.corpus_count, epochs=1, compute_loss=True)\n",
        "    loss = model.get_latest_training_loss()\n",
        "    losses.append(loss)\n",
        "\n",
        "# Save Model\n",
        "model.save(\"./word2vec-amazon-cell-accessories-reviews.model\")\n",
        "\n",
        "# Plot Loss Graph\n",
        "plt.figure(figsize=(8, 5))\n",
        "plt.plot(range(1, epochs+1), losses, marker='o', linestyle='-', color='b')\n",
        "plt.xlabel(\"Epochs\")\n",
        "plt.ylabel(\"Training Loss\")\n",
        "plt.title(\"Word2Vec Training Loss Over Epochs\")\n",
        "plt.grid()\n",
        "plt.show()\n",
        "\n",
        "# Word Similarity Check\n",
        "word_pairs = [(\"cheap\", \"inexpensive\"), (\"great\", \"good\"), (\"bad\", \"awful\")]\n",
        "\n",
        "for w1, w2 in word_pairs:\n",
        "    try:\n",
        "        sim = model.wv.similarity(w1, w2)\n",
        "        print(f\"Similarity({w1}, {w2}): {sim:.4f}\")\n",
        "    except KeyError:\n",
        "        print(f\"Words '{w1}' or '{w2}' not in vocabulary.\")\n"
      ]
    },
    {
      "cell_type": "code",
      "execution_count": null,
      "metadata": {
        "colab": {
          "base_uri": "https://localhost:8080/",
          "height": 1000
        },
        "id": "w46AwtSg4ffY",
        "outputId": "a4fc71dd-0383-48aa-f033-dbbd3948330d"
      },
      "outputs": [
        {
          "output_type": "stream",
          "name": "stdout",
          "text": [
            "Epoch 1/100\n"
          ]
        },
        {
          "output_type": "stream",
          "name": "stderr",
          "text": [
            "WARNING:gensim.models.word2vec:Effective 'alpha' higher than previous training cycles\n"
          ]
        },
        {
          "output_type": "stream",
          "name": "stdout",
          "text": [
            "Epoch 2/100\n"
          ]
        },
        {
          "output_type": "stream",
          "name": "stderr",
          "text": [
            "WARNING:gensim.models.word2vec:Effective 'alpha' higher than previous training cycles\n"
          ]
        },
        {
          "output_type": "stream",
          "name": "stdout",
          "text": [
            "Epoch 3/100\n"
          ]
        },
        {
          "output_type": "stream",
          "name": "stderr",
          "text": [
            "WARNING:gensim.models.word2vec:Effective 'alpha' higher than previous training cycles\n"
          ]
        },
        {
          "output_type": "stream",
          "name": "stdout",
          "text": [
            "Epoch 4/100\n"
          ]
        },
        {
          "output_type": "stream",
          "name": "stderr",
          "text": [
            "WARNING:gensim.models.word2vec:Effective 'alpha' higher than previous training cycles\n"
          ]
        },
        {
          "output_type": "stream",
          "name": "stdout",
          "text": [
            "Epoch 5/100\n"
          ]
        },
        {
          "output_type": "stream",
          "name": "stderr",
          "text": [
            "WARNING:gensim.models.word2vec:Effective 'alpha' higher than previous training cycles\n"
          ]
        },
        {
          "output_type": "stream",
          "name": "stdout",
          "text": [
            "Epoch 6/100\n"
          ]
        },
        {
          "output_type": "stream",
          "name": "stderr",
          "text": [
            "WARNING:gensim.models.word2vec:Effective 'alpha' higher than previous training cycles\n"
          ]
        },
        {
          "output_type": "stream",
          "name": "stdout",
          "text": [
            "Epoch 7/100\n"
          ]
        },
        {
          "output_type": "stream",
          "name": "stderr",
          "text": [
            "WARNING:gensim.models.word2vec:Effective 'alpha' higher than previous training cycles\n"
          ]
        },
        {
          "output_type": "stream",
          "name": "stdout",
          "text": [
            "Epoch 8/100\n"
          ]
        },
        {
          "output_type": "stream",
          "name": "stderr",
          "text": [
            "WARNING:gensim.models.word2vec:Effective 'alpha' higher than previous training cycles\n"
          ]
        },
        {
          "output_type": "stream",
          "name": "stdout",
          "text": [
            "Epoch 9/100\n"
          ]
        },
        {
          "output_type": "stream",
          "name": "stderr",
          "text": [
            "WARNING:gensim.models.word2vec:Effective 'alpha' higher than previous training cycles\n"
          ]
        },
        {
          "output_type": "stream",
          "name": "stdout",
          "text": [
            "Epoch 10/100\n"
          ]
        },
        {
          "output_type": "stream",
          "name": "stderr",
          "text": [
            "WARNING:gensim.models.word2vec:Effective 'alpha' higher than previous training cycles\n"
          ]
        },
        {
          "output_type": "stream",
          "name": "stdout",
          "text": [
            "Epoch 11/100\n"
          ]
        },
        {
          "output_type": "stream",
          "name": "stderr",
          "text": [
            "WARNING:gensim.models.word2vec:Effective 'alpha' higher than previous training cycles\n"
          ]
        },
        {
          "output_type": "stream",
          "name": "stdout",
          "text": [
            "Epoch 12/100\n"
          ]
        },
        {
          "output_type": "stream",
          "name": "stderr",
          "text": [
            "WARNING:gensim.models.word2vec:Effective 'alpha' higher than previous training cycles\n"
          ]
        },
        {
          "output_type": "stream",
          "name": "stdout",
          "text": [
            "Epoch 13/100\n"
          ]
        },
        {
          "output_type": "stream",
          "name": "stderr",
          "text": [
            "WARNING:gensim.models.word2vec:Effective 'alpha' higher than previous training cycles\n"
          ]
        },
        {
          "output_type": "stream",
          "name": "stdout",
          "text": [
            "Epoch 14/100\n"
          ]
        },
        {
          "output_type": "stream",
          "name": "stderr",
          "text": [
            "WARNING:gensim.models.word2vec:Effective 'alpha' higher than previous training cycles\n"
          ]
        },
        {
          "output_type": "stream",
          "name": "stdout",
          "text": [
            "Epoch 15/100\n"
          ]
        },
        {
          "output_type": "stream",
          "name": "stderr",
          "text": [
            "WARNING:gensim.models.word2vec:Effective 'alpha' higher than previous training cycles\n"
          ]
        },
        {
          "output_type": "stream",
          "name": "stdout",
          "text": [
            "Epoch 16/100\n"
          ]
        },
        {
          "output_type": "stream",
          "name": "stderr",
          "text": [
            "WARNING:gensim.models.word2vec:Effective 'alpha' higher than previous training cycles\n"
          ]
        },
        {
          "output_type": "stream",
          "name": "stdout",
          "text": [
            "Epoch 17/100\n"
          ]
        },
        {
          "output_type": "stream",
          "name": "stderr",
          "text": [
            "WARNING:gensim.models.word2vec:Effective 'alpha' higher than previous training cycles\n"
          ]
        },
        {
          "output_type": "stream",
          "name": "stdout",
          "text": [
            "Epoch 18/100\n"
          ]
        },
        {
          "output_type": "stream",
          "name": "stderr",
          "text": [
            "WARNING:gensim.models.word2vec:Effective 'alpha' higher than previous training cycles\n"
          ]
        },
        {
          "output_type": "stream",
          "name": "stdout",
          "text": [
            "Epoch 19/100\n"
          ]
        },
        {
          "output_type": "stream",
          "name": "stderr",
          "text": [
            "WARNING:gensim.models.word2vec:Effective 'alpha' higher than previous training cycles\n"
          ]
        },
        {
          "output_type": "stream",
          "name": "stdout",
          "text": [
            "Epoch 20/100\n"
          ]
        },
        {
          "output_type": "stream",
          "name": "stderr",
          "text": [
            "WARNING:gensim.models.word2vec:Effective 'alpha' higher than previous training cycles\n"
          ]
        },
        {
          "output_type": "stream",
          "name": "stdout",
          "text": [
            "Epoch 21/100\n"
          ]
        },
        {
          "output_type": "stream",
          "name": "stderr",
          "text": [
            "WARNING:gensim.models.word2vec:Effective 'alpha' higher than previous training cycles\n"
          ]
        },
        {
          "output_type": "stream",
          "name": "stdout",
          "text": [
            "Epoch 22/100\n"
          ]
        },
        {
          "output_type": "stream",
          "name": "stderr",
          "text": [
            "WARNING:gensim.models.word2vec:Effective 'alpha' higher than previous training cycles\n"
          ]
        },
        {
          "output_type": "stream",
          "name": "stdout",
          "text": [
            "Epoch 23/100\n"
          ]
        },
        {
          "output_type": "stream",
          "name": "stderr",
          "text": [
            "WARNING:gensim.models.word2vec:Effective 'alpha' higher than previous training cycles\n"
          ]
        },
        {
          "output_type": "stream",
          "name": "stdout",
          "text": [
            "Epoch 24/100\n"
          ]
        },
        {
          "output_type": "stream",
          "name": "stderr",
          "text": [
            "WARNING:gensim.models.word2vec:Effective 'alpha' higher than previous training cycles\n"
          ]
        },
        {
          "output_type": "stream",
          "name": "stdout",
          "text": [
            "Epoch 25/100\n"
          ]
        },
        {
          "output_type": "stream",
          "name": "stderr",
          "text": [
            "WARNING:gensim.models.word2vec:Effective 'alpha' higher than previous training cycles\n"
          ]
        },
        {
          "output_type": "stream",
          "name": "stdout",
          "text": [
            "Epoch 26/100\n"
          ]
        },
        {
          "output_type": "stream",
          "name": "stderr",
          "text": [
            "WARNING:gensim.models.word2vec:Effective 'alpha' higher than previous training cycles\n"
          ]
        },
        {
          "output_type": "stream",
          "name": "stdout",
          "text": [
            "Epoch 27/100\n"
          ]
        },
        {
          "output_type": "stream",
          "name": "stderr",
          "text": [
            "WARNING:gensim.models.word2vec:Effective 'alpha' higher than previous training cycles\n"
          ]
        },
        {
          "output_type": "stream",
          "name": "stdout",
          "text": [
            "Epoch 28/100\n"
          ]
        },
        {
          "output_type": "stream",
          "name": "stderr",
          "text": [
            "WARNING:gensim.models.word2vec:Effective 'alpha' higher than previous training cycles\n"
          ]
        },
        {
          "output_type": "stream",
          "name": "stdout",
          "text": [
            "Epoch 29/100\n"
          ]
        },
        {
          "output_type": "stream",
          "name": "stderr",
          "text": [
            "WARNING:gensim.models.word2vec:Effective 'alpha' higher than previous training cycles\n"
          ]
        },
        {
          "output_type": "stream",
          "name": "stdout",
          "text": [
            "Epoch 30/100\n"
          ]
        },
        {
          "output_type": "stream",
          "name": "stderr",
          "text": [
            "WARNING:gensim.models.word2vec:Effective 'alpha' higher than previous training cycles\n"
          ]
        },
        {
          "output_type": "stream",
          "name": "stdout",
          "text": [
            "Epoch 31/100\n"
          ]
        },
        {
          "output_type": "stream",
          "name": "stderr",
          "text": [
            "WARNING:gensim.models.word2vec:Effective 'alpha' higher than previous training cycles\n"
          ]
        },
        {
          "output_type": "stream",
          "name": "stdout",
          "text": [
            "Epoch 32/100\n"
          ]
        },
        {
          "output_type": "stream",
          "name": "stderr",
          "text": [
            "WARNING:gensim.models.word2vec:Effective 'alpha' higher than previous training cycles\n"
          ]
        },
        {
          "output_type": "stream",
          "name": "stdout",
          "text": [
            "Epoch 33/100\n"
          ]
        },
        {
          "output_type": "stream",
          "name": "stderr",
          "text": [
            "WARNING:gensim.models.word2vec:Effective 'alpha' higher than previous training cycles\n"
          ]
        },
        {
          "output_type": "stream",
          "name": "stdout",
          "text": [
            "Epoch 34/100\n"
          ]
        },
        {
          "output_type": "stream",
          "name": "stderr",
          "text": [
            "WARNING:gensim.models.word2vec:Effective 'alpha' higher than previous training cycles\n"
          ]
        },
        {
          "output_type": "stream",
          "name": "stdout",
          "text": [
            "Epoch 35/100\n"
          ]
        },
        {
          "output_type": "stream",
          "name": "stderr",
          "text": [
            "WARNING:gensim.models.word2vec:Effective 'alpha' higher than previous training cycles\n"
          ]
        },
        {
          "output_type": "stream",
          "name": "stdout",
          "text": [
            "Epoch 36/100\n"
          ]
        },
        {
          "output_type": "stream",
          "name": "stderr",
          "text": [
            "WARNING:gensim.models.word2vec:Effective 'alpha' higher than previous training cycles\n"
          ]
        },
        {
          "output_type": "stream",
          "name": "stdout",
          "text": [
            "Epoch 37/100\n"
          ]
        },
        {
          "output_type": "stream",
          "name": "stderr",
          "text": [
            "WARNING:gensim.models.word2vec:Effective 'alpha' higher than previous training cycles\n"
          ]
        },
        {
          "output_type": "stream",
          "name": "stdout",
          "text": [
            "Epoch 38/100\n"
          ]
        },
        {
          "output_type": "stream",
          "name": "stderr",
          "text": [
            "WARNING:gensim.models.word2vec:Effective 'alpha' higher than previous training cycles\n"
          ]
        },
        {
          "output_type": "stream",
          "name": "stdout",
          "text": [
            "Epoch 39/100\n"
          ]
        },
        {
          "output_type": "stream",
          "name": "stderr",
          "text": [
            "WARNING:gensim.models.word2vec:Effective 'alpha' higher than previous training cycles\n"
          ]
        },
        {
          "output_type": "stream",
          "name": "stdout",
          "text": [
            "Epoch 40/100\n"
          ]
        },
        {
          "output_type": "stream",
          "name": "stderr",
          "text": [
            "WARNING:gensim.models.word2vec:Effective 'alpha' higher than previous training cycles\n"
          ]
        },
        {
          "output_type": "stream",
          "name": "stdout",
          "text": [
            "Epoch 41/100\n"
          ]
        },
        {
          "output_type": "stream",
          "name": "stderr",
          "text": [
            "WARNING:gensim.models.word2vec:Effective 'alpha' higher than previous training cycles\n"
          ]
        },
        {
          "output_type": "stream",
          "name": "stdout",
          "text": [
            "Epoch 42/100\n"
          ]
        },
        {
          "output_type": "stream",
          "name": "stderr",
          "text": [
            "WARNING:gensim.models.word2vec:Effective 'alpha' higher than previous training cycles\n"
          ]
        },
        {
          "output_type": "stream",
          "name": "stdout",
          "text": [
            "Epoch 43/100\n"
          ]
        },
        {
          "output_type": "stream",
          "name": "stderr",
          "text": [
            "WARNING:gensim.models.word2vec:Effective 'alpha' higher than previous training cycles\n"
          ]
        },
        {
          "output_type": "stream",
          "name": "stdout",
          "text": [
            "Epoch 44/100\n"
          ]
        },
        {
          "output_type": "stream",
          "name": "stderr",
          "text": [
            "WARNING:gensim.models.word2vec:Effective 'alpha' higher than previous training cycles\n"
          ]
        },
        {
          "output_type": "stream",
          "name": "stdout",
          "text": [
            "Epoch 45/100\n"
          ]
        },
        {
          "output_type": "stream",
          "name": "stderr",
          "text": [
            "WARNING:gensim.models.word2vec:Effective 'alpha' higher than previous training cycles\n"
          ]
        },
        {
          "output_type": "stream",
          "name": "stdout",
          "text": [
            "Epoch 46/100\n"
          ]
        },
        {
          "output_type": "stream",
          "name": "stderr",
          "text": [
            "WARNING:gensim.models.word2vec:Effective 'alpha' higher than previous training cycles\n"
          ]
        },
        {
          "output_type": "stream",
          "name": "stdout",
          "text": [
            "Epoch 47/100\n"
          ]
        },
        {
          "output_type": "stream",
          "name": "stderr",
          "text": [
            "WARNING:gensim.models.word2vec:Effective 'alpha' higher than previous training cycles\n"
          ]
        },
        {
          "output_type": "stream",
          "name": "stdout",
          "text": [
            "Epoch 48/100\n"
          ]
        },
        {
          "output_type": "stream",
          "name": "stderr",
          "text": [
            "WARNING:gensim.models.word2vec:Effective 'alpha' higher than previous training cycles\n"
          ]
        },
        {
          "output_type": "stream",
          "name": "stdout",
          "text": [
            "Epoch 49/100\n"
          ]
        },
        {
          "output_type": "stream",
          "name": "stderr",
          "text": [
            "WARNING:gensim.models.word2vec:Effective 'alpha' higher than previous training cycles\n"
          ]
        },
        {
          "output_type": "stream",
          "name": "stdout",
          "text": [
            "Epoch 50/100\n"
          ]
        },
        {
          "output_type": "stream",
          "name": "stderr",
          "text": [
            "WARNING:gensim.models.word2vec:Effective 'alpha' higher than previous training cycles\n"
          ]
        },
        {
          "output_type": "stream",
          "name": "stdout",
          "text": [
            "Epoch 51/100\n"
          ]
        },
        {
          "output_type": "stream",
          "name": "stderr",
          "text": [
            "WARNING:gensim.models.word2vec:Effective 'alpha' higher than previous training cycles\n"
          ]
        },
        {
          "output_type": "stream",
          "name": "stdout",
          "text": [
            "Epoch 52/100\n"
          ]
        },
        {
          "output_type": "stream",
          "name": "stderr",
          "text": [
            "WARNING:gensim.models.word2vec:Effective 'alpha' higher than previous training cycles\n"
          ]
        },
        {
          "output_type": "stream",
          "name": "stdout",
          "text": [
            "Epoch 53/100\n"
          ]
        },
        {
          "output_type": "stream",
          "name": "stderr",
          "text": [
            "WARNING:gensim.models.word2vec:Effective 'alpha' higher than previous training cycles\n"
          ]
        },
        {
          "output_type": "stream",
          "name": "stdout",
          "text": [
            "Epoch 54/100\n"
          ]
        },
        {
          "output_type": "stream",
          "name": "stderr",
          "text": [
            "WARNING:gensim.models.word2vec:Effective 'alpha' higher than previous training cycles\n"
          ]
        },
        {
          "output_type": "stream",
          "name": "stdout",
          "text": [
            "Epoch 55/100\n"
          ]
        },
        {
          "output_type": "stream",
          "name": "stderr",
          "text": [
            "WARNING:gensim.models.word2vec:Effective 'alpha' higher than previous training cycles\n"
          ]
        },
        {
          "output_type": "stream",
          "name": "stdout",
          "text": [
            "Epoch 56/100\n"
          ]
        },
        {
          "output_type": "stream",
          "name": "stderr",
          "text": [
            "WARNING:gensim.models.word2vec:Effective 'alpha' higher than previous training cycles\n"
          ]
        },
        {
          "output_type": "stream",
          "name": "stdout",
          "text": [
            "Epoch 57/100\n"
          ]
        },
        {
          "output_type": "stream",
          "name": "stderr",
          "text": [
            "WARNING:gensim.models.word2vec:Effective 'alpha' higher than previous training cycles\n"
          ]
        },
        {
          "output_type": "stream",
          "name": "stdout",
          "text": [
            "Epoch 58/100\n"
          ]
        },
        {
          "output_type": "stream",
          "name": "stderr",
          "text": [
            "WARNING:gensim.models.word2vec:Effective 'alpha' higher than previous training cycles\n"
          ]
        },
        {
          "output_type": "stream",
          "name": "stdout",
          "text": [
            "Epoch 59/100\n"
          ]
        },
        {
          "output_type": "stream",
          "name": "stderr",
          "text": [
            "WARNING:gensim.models.word2vec:Effective 'alpha' higher than previous training cycles\n"
          ]
        },
        {
          "output_type": "stream",
          "name": "stdout",
          "text": [
            "Epoch 60/100\n"
          ]
        },
        {
          "output_type": "stream",
          "name": "stderr",
          "text": [
            "WARNING:gensim.models.word2vec:Effective 'alpha' higher than previous training cycles\n"
          ]
        },
        {
          "output_type": "stream",
          "name": "stdout",
          "text": [
            "Epoch 61/100\n"
          ]
        },
        {
          "output_type": "stream",
          "name": "stderr",
          "text": [
            "WARNING:gensim.models.word2vec:Effective 'alpha' higher than previous training cycles\n"
          ]
        },
        {
          "output_type": "stream",
          "name": "stdout",
          "text": [
            "Epoch 62/100\n"
          ]
        },
        {
          "output_type": "stream",
          "name": "stderr",
          "text": [
            "WARNING:gensim.models.word2vec:Effective 'alpha' higher than previous training cycles\n"
          ]
        },
        {
          "output_type": "stream",
          "name": "stdout",
          "text": [
            "Epoch 63/100\n"
          ]
        },
        {
          "output_type": "stream",
          "name": "stderr",
          "text": [
            "WARNING:gensim.models.word2vec:Effective 'alpha' higher than previous training cycles\n"
          ]
        },
        {
          "output_type": "stream",
          "name": "stdout",
          "text": [
            "Epoch 64/100\n"
          ]
        },
        {
          "output_type": "stream",
          "name": "stderr",
          "text": [
            "WARNING:gensim.models.word2vec:Effective 'alpha' higher than previous training cycles\n"
          ]
        },
        {
          "output_type": "stream",
          "name": "stdout",
          "text": [
            "Epoch 65/100\n"
          ]
        },
        {
          "output_type": "stream",
          "name": "stderr",
          "text": [
            "WARNING:gensim.models.word2vec:Effective 'alpha' higher than previous training cycles\n"
          ]
        },
        {
          "output_type": "stream",
          "name": "stdout",
          "text": [
            "Epoch 66/100\n"
          ]
        },
        {
          "output_type": "stream",
          "name": "stderr",
          "text": [
            "WARNING:gensim.models.word2vec:Effective 'alpha' higher than previous training cycles\n"
          ]
        },
        {
          "output_type": "stream",
          "name": "stdout",
          "text": [
            "Epoch 67/100\n"
          ]
        },
        {
          "output_type": "stream",
          "name": "stderr",
          "text": [
            "WARNING:gensim.models.word2vec:Effective 'alpha' higher than previous training cycles\n"
          ]
        },
        {
          "output_type": "stream",
          "name": "stdout",
          "text": [
            "Epoch 68/100\n"
          ]
        },
        {
          "output_type": "stream",
          "name": "stderr",
          "text": [
            "WARNING:gensim.models.word2vec:Effective 'alpha' higher than previous training cycles\n"
          ]
        },
        {
          "output_type": "stream",
          "name": "stdout",
          "text": [
            "Epoch 69/100\n"
          ]
        },
        {
          "output_type": "stream",
          "name": "stderr",
          "text": [
            "WARNING:gensim.models.word2vec:Effective 'alpha' higher than previous training cycles\n"
          ]
        },
        {
          "output_type": "stream",
          "name": "stdout",
          "text": [
            "Epoch 70/100\n"
          ]
        },
        {
          "output_type": "stream",
          "name": "stderr",
          "text": [
            "WARNING:gensim.models.word2vec:Effective 'alpha' higher than previous training cycles\n"
          ]
        },
        {
          "output_type": "stream",
          "name": "stdout",
          "text": [
            "Epoch 71/100\n"
          ]
        },
        {
          "output_type": "stream",
          "name": "stderr",
          "text": [
            "WARNING:gensim.models.word2vec:Effective 'alpha' higher than previous training cycles\n"
          ]
        },
        {
          "output_type": "stream",
          "name": "stdout",
          "text": [
            "Epoch 72/100\n"
          ]
        },
        {
          "output_type": "stream",
          "name": "stderr",
          "text": [
            "WARNING:gensim.models.word2vec:Effective 'alpha' higher than previous training cycles\n"
          ]
        },
        {
          "output_type": "stream",
          "name": "stdout",
          "text": [
            "Epoch 73/100\n"
          ]
        },
        {
          "output_type": "stream",
          "name": "stderr",
          "text": [
            "WARNING:gensim.models.word2vec:Effective 'alpha' higher than previous training cycles\n"
          ]
        },
        {
          "output_type": "stream",
          "name": "stdout",
          "text": [
            "Epoch 74/100\n"
          ]
        },
        {
          "output_type": "stream",
          "name": "stderr",
          "text": [
            "WARNING:gensim.models.word2vec:Effective 'alpha' higher than previous training cycles\n"
          ]
        },
        {
          "output_type": "stream",
          "name": "stdout",
          "text": [
            "Epoch 75/100\n"
          ]
        },
        {
          "output_type": "stream",
          "name": "stderr",
          "text": [
            "WARNING:gensim.models.word2vec:Effective 'alpha' higher than previous training cycles\n"
          ]
        },
        {
          "output_type": "stream",
          "name": "stdout",
          "text": [
            "Epoch 76/100\n"
          ]
        },
        {
          "output_type": "stream",
          "name": "stderr",
          "text": [
            "WARNING:gensim.models.word2vec:Effective 'alpha' higher than previous training cycles\n"
          ]
        },
        {
          "output_type": "stream",
          "name": "stdout",
          "text": [
            "Epoch 77/100\n"
          ]
        },
        {
          "output_type": "stream",
          "name": "stderr",
          "text": [
            "WARNING:gensim.models.word2vec:Effective 'alpha' higher than previous training cycles\n"
          ]
        },
        {
          "output_type": "stream",
          "name": "stdout",
          "text": [
            "Epoch 78/100\n"
          ]
        },
        {
          "output_type": "stream",
          "name": "stderr",
          "text": [
            "WARNING:gensim.models.word2vec:Effective 'alpha' higher than previous training cycles\n"
          ]
        },
        {
          "output_type": "stream",
          "name": "stdout",
          "text": [
            "Epoch 79/100\n"
          ]
        },
        {
          "output_type": "stream",
          "name": "stderr",
          "text": [
            "WARNING:gensim.models.word2vec:Effective 'alpha' higher than previous training cycles\n"
          ]
        },
        {
          "output_type": "stream",
          "name": "stdout",
          "text": [
            "Epoch 80/100\n"
          ]
        },
        {
          "output_type": "stream",
          "name": "stderr",
          "text": [
            "WARNING:gensim.models.word2vec:Effective 'alpha' higher than previous training cycles\n"
          ]
        },
        {
          "output_type": "stream",
          "name": "stdout",
          "text": [
            "Epoch 81/100\n"
          ]
        },
        {
          "output_type": "stream",
          "name": "stderr",
          "text": [
            "WARNING:gensim.models.word2vec:Effective 'alpha' higher than previous training cycles\n"
          ]
        },
        {
          "output_type": "stream",
          "name": "stdout",
          "text": [
            "Epoch 82/100\n"
          ]
        },
        {
          "output_type": "stream",
          "name": "stderr",
          "text": [
            "WARNING:gensim.models.word2vec:Effective 'alpha' higher than previous training cycles\n"
          ]
        },
        {
          "output_type": "stream",
          "name": "stdout",
          "text": [
            "Epoch 83/100\n"
          ]
        },
        {
          "output_type": "stream",
          "name": "stderr",
          "text": [
            "WARNING:gensim.models.word2vec:Effective 'alpha' higher than previous training cycles\n"
          ]
        },
        {
          "output_type": "stream",
          "name": "stdout",
          "text": [
            "Epoch 84/100\n"
          ]
        },
        {
          "output_type": "stream",
          "name": "stderr",
          "text": [
            "WARNING:gensim.models.word2vec:Effective 'alpha' higher than previous training cycles\n"
          ]
        },
        {
          "output_type": "stream",
          "name": "stdout",
          "text": [
            "Epoch 85/100\n"
          ]
        },
        {
          "output_type": "stream",
          "name": "stderr",
          "text": [
            "WARNING:gensim.models.word2vec:Effective 'alpha' higher than previous training cycles\n"
          ]
        },
        {
          "output_type": "stream",
          "name": "stdout",
          "text": [
            "Epoch 86/100\n"
          ]
        },
        {
          "output_type": "stream",
          "name": "stderr",
          "text": [
            "WARNING:gensim.models.word2vec:Effective 'alpha' higher than previous training cycles\n"
          ]
        },
        {
          "output_type": "stream",
          "name": "stdout",
          "text": [
            "Epoch 87/100\n"
          ]
        },
        {
          "output_type": "stream",
          "name": "stderr",
          "text": [
            "WARNING:gensim.models.word2vec:Effective 'alpha' higher than previous training cycles\n"
          ]
        },
        {
          "output_type": "stream",
          "name": "stdout",
          "text": [
            "Epoch 88/100\n"
          ]
        },
        {
          "output_type": "stream",
          "name": "stderr",
          "text": [
            "WARNING:gensim.models.word2vec:Effective 'alpha' higher than previous training cycles\n"
          ]
        },
        {
          "output_type": "stream",
          "name": "stdout",
          "text": [
            "Epoch 89/100\n"
          ]
        },
        {
          "output_type": "stream",
          "name": "stderr",
          "text": [
            "WARNING:gensim.models.word2vec:Effective 'alpha' higher than previous training cycles\n"
          ]
        },
        {
          "output_type": "stream",
          "name": "stdout",
          "text": [
            "Epoch 90/100\n"
          ]
        },
        {
          "output_type": "stream",
          "name": "stderr",
          "text": [
            "WARNING:gensim.models.word2vec:Effective 'alpha' higher than previous training cycles\n"
          ]
        },
        {
          "output_type": "stream",
          "name": "stdout",
          "text": [
            "Epoch 91/100\n"
          ]
        },
        {
          "output_type": "stream",
          "name": "stderr",
          "text": [
            "WARNING:gensim.models.word2vec:Effective 'alpha' higher than previous training cycles\n"
          ]
        },
        {
          "output_type": "stream",
          "name": "stdout",
          "text": [
            "Epoch 92/100\n"
          ]
        },
        {
          "output_type": "stream",
          "name": "stderr",
          "text": [
            "WARNING:gensim.models.word2vec:Effective 'alpha' higher than previous training cycles\n"
          ]
        },
        {
          "output_type": "stream",
          "name": "stdout",
          "text": [
            "Epoch 93/100\n"
          ]
        },
        {
          "output_type": "stream",
          "name": "stderr",
          "text": [
            "WARNING:gensim.models.word2vec:Effective 'alpha' higher than previous training cycles\n"
          ]
        },
        {
          "output_type": "stream",
          "name": "stdout",
          "text": [
            "Epoch 94/100\n"
          ]
        },
        {
          "output_type": "stream",
          "name": "stderr",
          "text": [
            "WARNING:gensim.models.word2vec:Effective 'alpha' higher than previous training cycles\n"
          ]
        },
        {
          "output_type": "stream",
          "name": "stdout",
          "text": [
            "Epoch 95/100\n"
          ]
        },
        {
          "output_type": "stream",
          "name": "stderr",
          "text": [
            "WARNING:gensim.models.word2vec:Effective 'alpha' higher than previous training cycles\n"
          ]
        },
        {
          "output_type": "stream",
          "name": "stdout",
          "text": [
            "Epoch 96/100\n"
          ]
        },
        {
          "output_type": "stream",
          "name": "stderr",
          "text": [
            "WARNING:gensim.models.word2vec:Effective 'alpha' higher than previous training cycles\n"
          ]
        },
        {
          "output_type": "stream",
          "name": "stdout",
          "text": [
            "Epoch 97/100\n"
          ]
        },
        {
          "output_type": "stream",
          "name": "stderr",
          "text": [
            "WARNING:gensim.models.word2vec:Effective 'alpha' higher than previous training cycles\n"
          ]
        },
        {
          "output_type": "stream",
          "name": "stdout",
          "text": [
            "Epoch 98/100\n"
          ]
        },
        {
          "output_type": "stream",
          "name": "stderr",
          "text": [
            "WARNING:gensim.models.word2vec:Effective 'alpha' higher than previous training cycles\n"
          ]
        },
        {
          "output_type": "stream",
          "name": "stdout",
          "text": [
            "Epoch 99/100\n"
          ]
        },
        {
          "output_type": "stream",
          "name": "stderr",
          "text": [
            "WARNING:gensim.models.word2vec:Effective 'alpha' higher than previous training cycles\n"
          ]
        },
        {
          "output_type": "stream",
          "name": "stdout",
          "text": [
            "Epoch 100/100\n"
          ]
        },
        {
          "output_type": "display_data",
          "data": {
            "text/plain": [
              "<Figure size 800x500 with 1 Axes>"
            ],
            "image/png": "[encoded data removed]"
          },
          "metadata": {}
        },
        {
          "output_type": "stream",
          "name": "stdout",
          "text": [
            "Similarity(cheap, inexpensive): 0.5177\n",
            "Similarity(great, good): 0.7732\n",
            "Similarity(bad, awful): 0.5059\n"
          ]
        }
      ],
      "source": [
        "import gensim\n",
        "import pandas as pd\n",
        "import matplotlib.pyplot as plt\n",
        "import numpy as np\n",
        "from sklearn.model_selection import train_test_split\n",
        "\n",
        "# Load Dataset\n",
        "df = pd.read_json(\"/content/Cell_Phones_and_Accessories_5.json\", lines=True)\n",
        "\n",
        "# Preprocess Text\n",
        "review_text = df.reviewText.apply(gensim.utils.simple_preprocess)\n",
        "\n",
        "# Train-Test Split (80-20)\n",
        "train_text, test_text = train_test_split(review_text, test_size=0.2, random_state=42)\n",
        "\n",
        "# Initialize Word2Vec Model\n",
        "model = gensim.models.Word2Vec(\n",
        "    vector_size=100,  # Embedding dimensions\n",
        "    window=10,        # Context window\n",
        "    min_count=2,      # Ignore rare words\n",
        "    workers=4,        # Parallel processing\n",
        ")\n",
        "\n",
        "# Build Vocabulary\n",
        "model.build_vocab(train_text, progress_per=1000)\n",
        "\n",
        "# Track Loss Over Epochs\n",
        "losses = []\n",
        "epochs = 100 # You can increase this\n",
        "\n",
        "for epoch in range(epochs):\n",
        "    print(f\"Epoch {epoch+1}/{epochs}\")\n",
        "    model.train(train_text, total_examples=model.corpus_count, epochs=1, compute_loss=True)\n",
        "    loss = model.get_latest_training_loss()\n",
        "    losses.append(loss)\n",
        "\n",
        "# Save Model\n",
        "model.save(\"./word2vec-amazon-cell-accessories-reviews.model\")\n",
        "\n",
        "# Plot Loss Graph\n",
        "plt.figure(figsize=(8, 5))\n",
        "plt.plot(range(1, epochs+1), losses, marker='o', linestyle='-', color='b')\n",
        "plt.xlabel(\"Epochs\")\n",
        "plt.ylabel(\"Training Loss\")\n",
        "plt.title(\"Word2Vec Training Loss Over Epochs\")\n",
        "plt.grid()\n",
        "plt.show()\n",
        "\n",
        "# Word Similarity Check\n",
        "word_pairs = [(\"cheap\", \"inexpensive\"), (\"great\", \"good\"), (\"bad\", \"awful\")]\n",
        "\n",
        "for w1, w2 in word_pairs:\n",
        "    try:\n",
        "        sim = model.wv.similarity(w1, w2)\n",
        "        print(f\"Similarity({w1}, {w2}): {sim:.4f}\")\n",
        "    except KeyError:\n",
        "        print(f\"Words '{w1}' or '{w2}' not in vocabulary.\")"
      ]
    },
    {
      "cell_type": "markdown",
      "source": [
        "glove\n"
      ],
      "metadata": {
        "id": "HepKecZTw3qy"
      }
    },
    {
      "cell_type": "code",
      "execution_count": null,
      "metadata": {
        "colab": {
          "base_uri": "https://localhost:8080/"
        },
        "id": "8tEKTttq_jnB",
        "outputId": "fb58d4cd-3987-4d2f-fd64-c2fc2113e440"
      },
      "outputs": [
        {
          "name": "stdout",
          "output_type": "stream",
          "text": [
            "Loaded 400000 word vectors from GloVe.\n",
            "Similarity(cheap, inexpensive): 0.8237\n",
            "Similarity(great, good): 0.7593\n",
            "Similarity(bad, awful): 0.7059\n"
          ]
        }
      ],
      "source": [
        "import gensim\n",
        "import pandas as pd\n",
        "import numpy as np\n",
        "import matplotlib.pyplot as plt\n",
        "from sklearn.model_selection import train_test_split\n",
        "\n",
        "# Load Dataset\n",
        "df = pd.read_json(\"/content/Cell_Phones_and_Accessories_5.json\", lines=True)\n",
        "\n",
        "# Preprocess Text\n",
        "review_text = df.reviewText.apply(gensim.utils.simple_preprocess)\n",
        "\n",
        "# Train-Test Split (80-20)\n",
        "train_text, test_text = train_test_split(review_text, test_size=0.2, random_state=42)\n",
        "\n",
        "# Load Pretrained GloVe Vectors (Download from official site if needed)\n",
        "glove_path = \"/content/glove.6B.100d.txt\"  # Change this path if needed\n",
        "\n",
        "# Load GloVe Embeddings into a Dictionary\n",
        "glove_embeddings = {}\n",
        "with open(glove_path, \"r\", encoding=\"utf-8\") as f:\n",
        "    for line in f:\n",
        "        values = line.split()\n",
        "        word = values[0]\n",
        "        vector = np.asarray(values[1:], dtype='float32')\n",
        "        glove_embeddings[word] = vector\n",
        "\n",
        "print(f\"Loaded {len(glove_embeddings)} word vectors from GloVe.\")\n",
        "\n",
        "# Function to Get Word Vector from GloVe\n",
        "def get_glove_vector(word):\n",
        "    return glove_embeddings.get(word, np.zeros(100))  # Default to zero vector if word is missing\n",
        "\n",
        "# Test Similarity with GloVe\n",
        "word_pairs = [(\"cheap\", \"inexpensive\"), (\"great\", \"good\"), (\"bad\", \"awful\")]\n",
        "\n",
        "for w1, w2 in word_pairs:\n",
        "    try:\n",
        "        vec1, vec2 = get_glove_vector(w1), get_glove_vector(w2)\n",
        "        similarity = np.dot(vec1, vec2) / (np.linalg.norm(vec1) * np.linalg.norm(vec2))\n",
        "        print(f\"Similarity({w1}, {w2}): {similarity:.4f}\")\n",
        "    except Exception as e:\n",
        "        print(f\"Error comparing words {w1}, {w2}: {e}\")\n",
        "\n"
      ]
    },
    {
      "cell_type": "code",
      "execution_count": null,
      "metadata": {
        "colab": {
          "base_uri": "https://localhost:8080/",
          "height": 936
        },
        "id": "e_CyhxEkFC0Q",
        "outputId": "368d16c8-2a3d-49df-f80c-a1e2c7d9aa73"
      },
      "outputs": [
        {
          "output_type": "stream",
          "name": "stdout",
          "text": [
            "\n",
            "Word Similarities (Cosine Similarity):\n",
            "cheap - inexpensive: Word2Vec = 0.5214, GloVe = 0.8237\n",
            "great - good: Word2Vec = 0.7825, GloVe = 0.7593\n",
            "bad - awful: Word2Vec = 0.5129, GloVe = 0.7059\n",
            "\n",
            "Nearest Neighbors for 'cheap':\n",
            "\n",
            "Word2Vec:\n",
            "[('cheep', 0.7677688002586365), ('flimsy', 0.7389633059501648), ('cheesy', 0.6650730967521667), ('legit', 0.6507651805877686), ('crappy', 0.6146986484527588)]\n",
            "\n",
            "GloVe:\n",
            "['cheaper', 'expensive', 'inexpensive', 'affordable', 'prices']\n"
          ]
        },
        {
          "output_type": "display_data",
          "data": {
            "text/plain": [
              "<Figure size 1000x500 with 1 Axes>"
            ],
            "image/png": "[encoded data removed]"
          },
          "metadata": {}
        },
        {
          "output_type": "display_data",
          "data": {
            "text/plain": [
              "<Figure size 1000x500 with 1 Axes>"
            ],
            "image/png": "[encoded data removed]"
          },
          "metadata": {}
        }
      ],
      "source": [
        "import gensim\n",
        "import pandas as pd\n",
        "import numpy as np\n",
        "import matplotlib.pyplot as plt\n",
        "from sklearn.model_selection import train_test_split\n",
        "from sklearn.manifold import TSNE\n",
        "\n",
        "# Load Dataset\n",
        "df = pd.read_json(\"/content/Cell_Phones_and_Accessories_5.json\", lines=True)\n",
        "\n",
        "# Preprocess Text\n",
        "review_text = df.reviewText.apply(gensim.utils.simple_preprocess)\n",
        "\n",
        "# Train-Test Split (80-20)\n",
        "train_text, test_text = train_test_split(review_text, test_size=0.2, random_state=42)\n",
        "\n",
        "### --- WORD2VEC TRAINING --- ###\n",
        "w2v_model = gensim.models.Word2Vec(\n",
        "    vector_size=100, window=10, min_count=2, workers=4\n",
        ")\n",
        "w2v_model.build_vocab(train_text, progress_per=1000)\n",
        "w2v_model.train(train_text, total_examples=w2v_model.corpus_count, epochs=10)\n",
        "\n",
        "# Save Word2Vec Model\n",
        "w2v_model.save(\"./word2vec-amazon-cell-accessories-reviews.model\")\n",
        "\n",
        "### --- LOAD GLOVE EMBEDDINGS --- ###\n",
        "glove_path = \"/content/glove.6B.100d.txt\"  # Change path if needed\n",
        "\n",
        "glove_embeddings = {}\n",
        "with open(glove_path, \"r\", encoding=\"utf-8\") as f:\n",
        "    for line in f:\n",
        "        values = line.split()\n",
        "        word = values[0]\n",
        "        vector = np.asarray(values[1:], dtype='float32')\n",
        "        glove_embeddings[word] = vector\n",
        "\n",
        "# Function to Get GloVe Vector\n",
        "def get_glove_vector(word):\n",
        "    return glove_embeddings.get(word, np.zeros(100))  # Default zero vector if word not found\n",
        "\n",
        "### --- WORD SIMILARITY COMPARISON --- ###\n",
        "word_pairs = [(\"cheap\", \"inexpensive\"), (\"great\", \"good\"), (\"bad\", \"awful\")]\n",
        "\n",
        "print(\"\\nWord Similarities (Cosine Similarity):\")\n",
        "for w1, w2 in word_pairs:\n",
        "    try:\n",
        "        # Word2Vec Similarity\n",
        "        w2v_sim = w2v_model.wv.similarity(w1, w2) if w1 in w2v_model.wv and w2 in w2v_model.wv else None\n",
        "\n",
        "        # GloVe Similarity\n",
        "        vec1, vec2 = get_glove_vector(w1), get_glove_vector(w2)\n",
        "        glove_sim = np.dot(vec1, vec2) / (np.linalg.norm(vec1) * np.linalg.norm(vec2)) if np.linalg.norm(vec1) > 0 and np.linalg.norm(vec2) > 0 else None\n",
        "\n",
        "        print(f\"{w1} - {w2}: Word2Vec = {w2v_sim:.4f}, GloVe = {glove_sim:.4f}\")\n",
        "\n",
        "    except Exception as e:\n",
        "        print(f\"Error comparing {w1}, {w2}: {e}\")\n",
        "\n",
        "### --- NEAREST NEIGHBORS COMPARISON --- ###\n",
        "test_word = \"cheap\"\n",
        "\n",
        "print(f\"\\nNearest Neighbors for '{test_word}':\")\n",
        "\n",
        "if test_word in w2v_model.wv:\n",
        "    print(\"\\nWord2Vec:\")\n",
        "    print(w2v_model.wv.most_similar(test_word, topn=5))\n",
        "else:\n",
        "    print(\"Word2Vec: Word not found.\")\n",
        "\n",
        "if test_word in glove_embeddings:\n",
        "    print(\"\\nGloVe:\")\n",
        "    glove_similar = sorted(glove_embeddings.keys(), key=lambda w: np.dot(get_glove_vector(test_word), get_glove_vector(w)), reverse=True)[1:6]\n",
        "    print(glove_similar)\n",
        "else:\n",
        "    print(\"GloVe: Word not found.\")\n",
        "\n",
        "### --- VISUALIZATION USING t-SNE --- ###\n",
        "def visualize_embeddings(word_list, model, method_name):\n",
        "    word_vectors = np.array([model.wv[word] for word in word_list if word in model.wv])\n",
        "    labels = [word for word in word_list if word in model.wv]\n",
        "\n",
        "    if len(word_vectors) < 2:\n",
        "        print(f\"Not enough words to visualize for {method_name}.\")\n",
        "        return\n",
        "\n",
        "    # Set perplexity dynamically\n",
        "    perplexity_value = min(30, len(word_vectors) - 1)\n",
        "\n",
        "    # Apply t-SNE\n",
        "    tsne = TSNE(n_components=2, perplexity=perplexity_value, random_state=42)\n",
        "    reduced_vectors = tsne.fit_transform(word_vectors)\n",
        "\n",
        "    # Plot\n",
        "    plt.figure(figsize=(10, 5))\n",
        "    plt.scatter(reduced_vectors[:, 0], reduced_vectors[:, 1], color=\"blue\")\n",
        "\n",
        "    for i, label in enumerate(labels):\n",
        "        plt.annotate(label, (reduced_vectors[i, 0], reduced_vectors[i, 1]))\n",
        "\n",
        "    plt.title(f\"{method_name} Embeddings (t-SNE)\")\n",
        "    plt.show()\n",
        "\n",
        "# Choose sample words\n",
        "words_to_visualize = [\"cheap\", \"expensive\", \"good\", \"bad\", \"great\", \"awful\"]\n",
        "\n",
        "# Word2Vec Visualization\n",
        "visualize_embeddings(words_to_visualize, w2v_model, \"Word2Vec\")\n",
        "\n",
        "# GloVe Visualization\n",
        "glove_vectors = np.array([get_glove_vector(word) for word in words_to_visualize if word in glove_embeddings])\n",
        "labels = [word for word in words_to_visualize if word in glove_embeddings]\n",
        "\n",
        "if len(glove_vectors) > 1:  # Ensure there are enough words\n",
        "    perplexity_value = min(30, len(glove_vectors) - 1)  # Adjust perplexity dynamically\n",
        "\n",
        "    tsne = TSNE(n_components=2, perplexity=perplexity_value, random_state=42)\n",
        "    reduced_vectors = tsne.fit_transform(glove_vectors)\n",
        "\n",
        "    plt.figure(figsize=(10, 5))\n",
        "    plt.scatter(reduced_vectors[:, 0], reduced_vectors[:, 1], color=\"red\")\n",
        "\n",
        "    for i, label in enumerate(labels):  # Use 'labels' instead of 'glove_words'\n",
        "        plt.annotate(label, (reduced_vectors[i, 0], reduced_vectors[i, 1]))\n",
        "\n",
        "    plt.title(\"GloVe Embeddings (t-SNE)\")\n",
        "    plt.show()\n",
        "else:\n",
        "    print(\"Not enough words to visualize for GloVe.\")\n"
      ]
    }
  ],
  "metadata": {
    "colab": {
      "provenance": []
    },
    "kernelspec": {
      "display_name": "Python 3",
      "name": "python3"
    },
    "language_info": {
      "name": "python"
    }
  },
  "nbformat": 4,
  "nbformat_minor": 0
}