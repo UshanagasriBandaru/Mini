{
  "nbformat": 4,
  "nbformat_minor": 0,
  "metadata": {
    "colab": {
      "provenance": []
    },
    "kernelspec": {
      "name": "python3",
      "display_name": "Python 3"
    },
    "language_info": {
      "name": "python"
    }
  },
  "cells": [
    {
      "cell_type": "markdown",
      "source": [
        "sum of sequence"
      ],
      "metadata": {
        "id": "InuTdBA2HVDA"
      }
    },
    {
      "cell_type": "markdown",
      "source": [
        "importing libraries"
      ],
      "metadata": {
        "id": "6vusPY4qLclt"
      }
    },
    {
      "cell_type": "code",
      "execution_count": null,
      "metadata": {
        "id": "Y--FTbBYFGtK"
      },
      "outputs": [],
      "source": [
        "import torch #tensor operations ad gpu accerlation\n",
        "import torch.nn as nn #define neural network layers\n",
        "import torch.optim  as optim #provide optimisers\n",
        "import numpy as np"
      ]
    },
    {
      "cell_type": "markdown",
      "source": [
        "dataset creation,trainig of dataset"
      ],
      "metadata": {
        "id": "odxQO2o9LfpE"
      }
    },
    {
      "cell_type": "code",
      "source": [
        "sequence_length=15 #time steps per sequence\n",
        "num_samples=200 #dataset with 200 sequences each of length 15\n",
        "\n",
        "x_data = np.random.rand(num_samples, sequence_length,1) #1=feature size\n",
        "y_data = np.sum(x_data, axis=1)#reduces the shape to (100,1)\n",
        "\n",
        "x_train = torch.tensor(x_data,dtype=torch.float32)#converts data into pytorch tensor\n",
        "y_train = torch.tensor(y_data,dtype=torch.float32)"
      ],
      "metadata": {
        "id": "cLhF8UUTF2g1"
      },
      "execution_count": null,
      "outputs": []
    },
    {
      "cell_type": "markdown",
      "source": [
        "rnn layer"
      ],
      "metadata": {
        "id": "6kW22OWMLjjM"
      }
    },
    {
      "cell_type": "code",
      "source": [
        "\n",
        "\n",
        "class SimpleRNN(nn.Module):  # Corrected class name and inheritance\n",
        "    def __init__(self, input_size, hidden_size, output_size):\n",
        "        super(SimpleRNN, self).__init__()  ##super- #Model parameters are registered properly.\n",
        "#Forward and backward propagation work correctly.\n",
        "#Saving & loading the model functions properly.\n",
        "\n",
        "        # Store the hidden size\n",
        "        self.hidden_size = hidden_size\n",
        "\n",
        "        # Define the RNN layer\n",
        "        self.rnn = nn.RNN(input_size, hidden_size, batch_first=True)\n",
        "\n",
        "        # Fully connected layer (to map hidden state to output)\n",
        "        self.fc = nn.Linear(hidden_size, output_size)\n"
      ],
      "metadata": {
        "id": "3KomOL_2IUyt"
      },
      "execution_count": null,
      "outputs": []
    },
    {
      "cell_type": "markdown",
      "source": [
        "forward pass"
      ],
      "metadata": {
        "id": "DPl2ZZ2QL1ns"
      }
    },
    {
      "cell_type": "code",
      "source": [
        "def forward(self, x):\n",
        "    out, _ = self.rnn(x)  # Pass input through RNN,_  represents final hidden state\n",
        "    out = self.fc(out[:, -1, :])  # Use the last time step output\n",
        "    return out  # converts hidden representation into final output\n",
        "# Model parameters\n",
        "input_size = 1\n",
        "hidden_size = 16\n",
        "output_size = 1\n",
        "\n",
        "model = SimpleRNN(input_size, hidden_size, output_size)"
      ],
      "metadata": {
        "id": "9AL_kDH6LogM"
      },
      "execution_count": null,
      "outputs": []
    },
    {
      "cell_type": "markdown",
      "source": [
        "loss,optimiser"
      ],
      "metadata": {
        "id": "KgcNIrkhMvod"
      }
    },
    {
      "cell_type": "code",
      "source": [
        "criterion = nn.MSELoss()\n",
        "optimizer = optim.Adam(model.parameters(), lr=0.01)"
      ],
      "metadata": {
        "id": "GG1JXasdMRc1"
      },
      "execution_count": null,
      "outputs": []
    },
    {
      "cell_type": "code",
      "source": [
        "import numpy as np\n",
        "\n",
        "# Initialize parameters\n",
        "np.random.seed(42)\n",
        "input_size = 1  # Single number input\n",
        "hidden_size = 10  # Number of hidden neurons\n",
        "output_size = 1  # Single output (sum)\n",
        "learning_rate = 0.01\n",
        "timesteps = 5  # Sequence length\n",
        "\n",
        "# Random weight initialization\n",
        "Wxh = np.random.randn(hidden_size, input_size) * 0.01  # Input to hidden\n",
        "Whh = np.random.randn(hidden_size, hidden_size) * 0.01  # Hidden to hidden\n",
        "Why = np.random.randn(output_size, hidden_size) * 0.01  # Hidden to output\n",
        "bh = np.zeros((hidden_size, 1))  # Hidden bias\n",
        "by = np.zeros((output_size, 1))  # Output bias\n",
        "\n",
        "# Activation function\n",
        "def tanh(x):\n",
        "    return np.tanh(x)\n",
        "\n",
        "def tanh_derivative(x):\n",
        "    return 1 - np.tanh(x)**2\n",
        "\n",
        "# Training data: sequences and their sums\n",
        "X_train = np.random.randint(1, 10, (100, timesteps, 1))  # 100 sequences of length 5\n",
        "Y_train = np.sum(X_train, axis=1, keepdims=True)  # Sum of each sequence\n",
        "\n",
        "# Training loop\n",
        "for epoch in range(1000):  # Train for 1000 epochs\n",
        "    total_loss = 0\n",
        "\n",
        "    # Initialize gradients\n",
        "    dWxh, dWhh, dWhy = np.zeros_like(Wxh), np.zeros_like(Whh), np.zeros_like(Why)\n",
        "    dbh, dby = np.zeros_like(bh), np.zeros_like(by)\n",
        "\n",
        "    for x, y_true in zip(X_train, Y_train):\n",
        "        # Forward Pass\n",
        "        h = np.zeros((hidden_size, 1))  # Initial hidden state\n",
        "        h_cache, x_cache = [], []\n",
        "\n",
        "        for t in range(timesteps):\n",
        "            x_t = x[t].reshape(input_size, 1)\n",
        "            h = tanh(np.dot(Wxh, x_t) + np.dot(Whh, h) + bh)\n",
        "            h_cache.append(h)\n",
        "            x_cache.append(x_t)\n",
        "\n",
        "        y_pred = np.dot(Why, h) + by\n",
        "        loss = 0.5 * (y_pred - y_true) ** 2  # MSE loss\n",
        "        total_loss += loss\n",
        "\n",
        "        # Backward Pass (BPTT)\n",
        "        dy = y_pred - y_true\n",
        "        dWhy += np.dot(dy, h.T)\n",
        "        dby += dy\n",
        "        dh_next = np.dot(Why.T, dy)\n",
        "\n",
        "     for t in reversed(range(timesteps)):\n",
        "    dh = dh_next + np.dot(Whh.T, dh_next)\n",
        "    dtanh = tanh_derivative(h_cache[t]) * dh\n",
        "    dWxh += np.dot(dtanh, x_cache[t].T)\n",
        "    dWhh += np.dot(dtanh, h_cache[t-1].T) if t > 0 else np.zeros_like(dWhh)\n",
        "    dbh += dtanh\n",
        "    dh_next = np.dot(Whh.T, dtanh)\n",
        "\n",
        "\n",
        "        # Gradient Clipping\n",
        "        for dparam in [dWxh, dWhh, dWhy, dbh, dby]:\n",
        "            np.clip(dparam, -5, 5, out=dparam)\n",
        "\n",
        "        # Update Weights\n",
        "        Wxh -= learning_rate * dWxh\n",
        "        Whh -= learning_rate * dWhh\n",
        "        Why -= learning_rate * dWhy\n",
        "        bh -= learning_rate * dbh\n",
        "        by -= learning_rate * dby\n",
        "\n",
        "    if epoch % 100 == 0:\n",
        "        print(f\"Epoch {epoch}, Loss: {total_loss.mean()}\")\n",
        "\n",
        "# Testing the trained model\n",
        "test_seq = np.array([[1], [2], [3], [4], [5]])  # Sum should be 15\n",
        "h = np.zeros((hidden_size, 1))\n",
        "for t in range(timesteps):\n",
        "    x_t = test_seq[t].reshape(input_size, 1)\n",
        "    h = tanh(np.dot(Wxh, x_t) + np.dot(Whh, h) + bh)\n",
        "\n",
        "y_pred = np.dot(Why, h) + by\n",
        "print(\"Predicted sum:\", y_pred.flatten()[0])\n"
      ],
      "metadata": {
        "colab": {
          "base_uri": "https://localhost:8080/"
        },
        "id": "f8YkIX211ijE",
        "outputId": "aac2eb7e-5240-432d-e7c3-b6b723b52013"
      },
      "execution_count": null,
      "outputs": [
        {
          "output_type": "error",
          "ename": "IndentationError",
          "evalue": "unindent does not match any outer indentation level (<tokenize>, line 58)",
          "traceback": [
            "\u001b[0;36m  File \u001b[0;32m\"<tokenize>\"\u001b[0;36m, line \u001b[0;32m58\u001b[0m\n\u001b[0;31m    for t in reversed(range(timesteps)):\u001b[0m\n\u001b[0m    ^\u001b[0m\n\u001b[0;31mIndentationError\u001b[0m\u001b[0;31m:\u001b[0m unindent does not match any outer indentation level\n"
          ]
        }
      ]
    },
    {
      "cell_type": "markdown",
      "source": [
        "train  the model"
      ],
      "metadata": {
        "id": "riZk7MkBMyEU"
      }
    },
    {
      "cell_type": "markdown",
      "source": [
        "predicyions"
      ],
      "metadata": {
        "id": "77APdNzVNVu9"
      }
    },
    {
      "cell_type": "code",
      "source": [
        "with torch.no_grad():#disables gradient calculations to save memory and space,used during evaluation or testing\n",
        "    test_sample = torch.tensor(np.random.rand(1, sequence_length, 1), dtype=torch.float32)\n",
        "    prediction = model(test_sample)\n",
        "    print(f'Predicted sum: {prediction.item()}, Actual sum: {np.sum(test_sample.numpy()):.4f}')\n"
      ],
      "metadata": {
        "id": "CZ1ZpnaONOnF"
      },
      "execution_count": null,
      "outputs": []
    },
    {
      "cell_type": "code",
      "source": [
        "import torch\n",
        "import torch.nn as nn\n",
        "import torch.optim as optim\n",
        "import numpy as np\n",
        "\n",
        "# Define the RNN Model\n",
        "class SimpleRNN(nn.Module):\n",
        "    def __init__(self, input_size, hidden_size, output_size):\n",
        "        super(SimpleRNN, self).__init__()\n",
        "        self.hidden_size = hidden_size\n",
        "        self.rnn = nn.RNN(input_size, hidden_size, batch_first=True)\n",
        "        self.fc = nn.Linear(hidden_size, output_size)\n",
        "\n",
        "    def forward(self, x):\n",
        "        out, _ = self.rnn(x)  # Process input through RNN\n",
        "        out = self.fc(out[:, -1, :])  # Use the last time step output\n",
        "        return out\n",
        "\n",
        "# Model Parameters\n",
        "input_size = 1\n",
        "hidden_size = 16\n",
        "output_size = 1\n",
        "num_epochs = 100\n",
        "learning_rate = 0.01\n",
        "\n",
        "# Generate Sequential Dataset\n",
        "sequence_length = 10\n",
        "num_samples = 100\n",
        "\n",
        "x_data = np.random.rand(num_samples, sequence_length, 1)\n",
        "y_data = np.sum(x_data, axis=1)\n",
        "\n",
        "x_train = torch.tensor(x_data, dtype=torch.float32)\n",
        "y_train = torch.tensor(y_data, dtype=torch.float32).unsqueeze(1)  # Reshape to (batch_size, 1)\n",
        "\n",
        "# Define Model, Loss, and Optimizer\n",
        "model = SimpleRNN(input_size, hidden_size, output_size)\n",
        "criterion = nn.MSELoss()\n",
        "optimizer = optim.Adam(model.parameters(), lr=learning_rate)\n",
        "\n",
        "# Training Loop\n",
        "for epoch in range(num_epochs):\n",
        "    optimizer.zero_grad() # Clear previously accumulated gradients to prevent accumulation\n",
        "    outputs = model(x_train)  # Forward pass\n",
        "    loss = criterion(outputs, y_train)  # Compute loss\n",
        "    loss.backward()  # Backpropagation\n",
        "    optimizer.step()  # Update weights\n",
        "\n",
        "    if (epoch+1) % 10 == 0:\n",
        "        print(f'Epoch [{epoch+1}/{num_epochs}], Loss: {loss.item():.4f}')\n"
      ],
      "metadata": {
        "colab": {
          "base_uri": "https://localhost:8080/"
        },
        "id": "Ygb65e8uNC8V",
        "outputId": "2bd9562d-ab84-44e2-8efa-1bf13f218cfb"
      },
      "execution_count": null,
      "outputs": [
        {
          "output_type": "stream",
          "name": "stderr",
          "text": [
            "/usr/local/lib/python3.11/dist-packages/torch/nn/modules/loss.py:608: UserWarning: Using a target size (torch.Size([100, 1, 1])) that is different to the input size (torch.Size([100, 1])). This will likely lead to incorrect results due to broadcasting. Please ensure they have the same size.\n",
            "  return F.mse_loss(input, target, reduction=self.reduction)\n"
          ]
        },
        {
          "output_type": "stream",
          "name": "stdout",
          "text": [
            "Epoch [10/100], Loss: 7.6887\n",
            "Epoch [20/100], Loss: 1.2599\n",
            "Epoch [30/100], Loss: 0.7487\n",
            "Epoch [40/100], Loss: 0.8924\n",
            "Epoch [50/100], Loss: 0.6685\n",
            "Epoch [60/100], Loss: 0.6554\n",
            "Epoch [70/100], Loss: 0.6545\n",
            "Epoch [80/100], Loss: 0.6436\n",
            "Epoch [90/100], Loss: 0.6451\n",
            "Epoch [100/100], Loss: 0.6437\n"
          ]
        }
      ]
    },
    {
      "cell_type": "markdown",
      "source": [
        "forward propagation"
      ],
      "metadata": {
        "id": "Rcs3SXlwZnbq"
      }
    },
    {
      "cell_type": "code",
      "source": [
        "import numpy as np\n",
        "\n",
        "# Activation function (tanh for hidden state)\n",
        "def tanh(x):\n",
        "    return np.tanh(x)\n",
        "\n",
        "# Softmax for output (if classification task)\n",
        "def softmax(x):\n",
        "    exp_x = np.exp(x - np.max(x))  # For numerical stability\n",
        "    return exp_x / np.sum(exp_x, axis=0, keepdims=True)\n",
        "\n",
        "# Initialize parameters\n",
        "input_size = 3   # Number of input features\n",
        "hidden_size = 4  # Number of hidden units\n",
        "output_size = 2  # Number of output classes\n",
        "\n",
        "np.random.seed(42)  # For reproducibility\n",
        "W_x = np.random.randn(hidden_size, input_size)   # Input to hidden weights\n",
        "W_h = np.random.randn(hidden_size, hidden_size)  # Hidden to hidden weights\n",
        "W_y = np.random.randn(output_size, hidden_size)  # Hidden to output weights\n",
        "b_h = np.zeros((hidden_size, 1))  # Hidden bias\n",
        "b_y = np.zeros((output_size, 1))  # Output bias\n",
        "\n",
        "# Sample input sequence (3 time steps, each with `input_size` features)\n",
        "X = [np.random.randn(input_size, 1) for _ in range(3)]\n",
        "\n",
        "# Forward propagation\n",
        "h_t = np.zeros((hidden_size, 1))  # Initial hidden state\n",
        "\n",
        "for t in range(len(X)):\n",
        "    h_t = tanh(W_x @ X[t] + W_h @ h_t + b_h)  # Hidden state update\n",
        "    y_t = softmax(W_y @ h_t + b_y)  # Output computation\n",
        "    print(f\"Time step {t+1} - Hidden state:\\n{h_t}\\nOutput:\\n{y_t}\\n\")\n"
      ],
      "metadata": {
        "colab": {
          "base_uri": "https://localhost:8080/"
        },
        "id": "ZWWHx2HZZm-L",
        "outputId": "fa43309e-0d86-4a03-d410-a05db1e48bd4"
      },
      "execution_count": null,
      "outputs": [
        {
          "output_type": "stream",
          "name": "stdout",
          "text": [
            "Time step 1 - Hidden state:\n",
            "[[-0.45067975]\n",
            " [ 0.79612735]\n",
            " [-0.50091697]\n",
            " [ 0.92747852]]\n",
            "Output:\n",
            "[[0.9883202]\n",
            " [0.0116798]]\n",
            "\n",
            "Time step 2 - Hidden state:\n",
            "[[-0.82841336]\n",
            " [-0.06152805]\n",
            " [-0.88500024]\n",
            " [ 0.73679606]]\n",
            "Output:\n",
            "[[0.98136662]\n",
            " [0.01863338]]\n",
            "\n",
            "Time step 3 - Hidden state:\n",
            "[[ 0.0560443 ]\n",
            " [ 0.67684836]\n",
            " [-0.96604458]\n",
            " [ 0.98674592]]\n",
            "Output:\n",
            "[[0.99256322]\n",
            " [0.00743678]]\n",
            "\n"
          ]
        }
      ]
    }
  ]
}